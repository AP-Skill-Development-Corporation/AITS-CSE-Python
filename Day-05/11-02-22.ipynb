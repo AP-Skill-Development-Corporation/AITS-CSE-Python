{
 "cells": [
  {
   "cell_type": "markdown",
   "id": "d1624f37",
   "metadata": {},
   "source": [
    "## Dictionaries\n",
    "- Dictionaries are used to store date which is in the format of key and value\n",
    "- combination of key and value we are calling as an item\n",
    "- the pair of key and values are sepereated with ':'\n",
    "- represented by {}\n",
    "- dictionaries are mutable"
   ]
  },
  {
   "cell_type": "code",
   "execution_count": 1,
   "id": "9dc9e462",
   "metadata": {},
   "outputs": [
    {
     "data": {
      "text/plain": [
       "{'key': 100, 2: 200, 'key3': 'python'}"
      ]
     },
     "execution_count": 1,
     "metadata": {},
     "output_type": "execute_result"
    }
   ],
   "source": [
    "dic={'key':100,2:200,'key3':'python'}\n",
    "dic"
   ]
  },
  {
   "cell_type": "code",
   "execution_count": 2,
   "id": "b22c313e",
   "metadata": {},
   "outputs": [
    {
     "data": {
      "text/plain": [
       "{'k1': 20, 'k2': 'Tirupati', 'k3': 'ap'}"
      ]
     },
     "execution_count": 2,
     "metadata": {},
     "output_type": "execute_result"
    }
   ],
   "source": [
    "## keys always should be unique\n",
    "dic1={'k1':20,'k2':54,'k3':'ap','k2':'Tirupati'}\n",
    "dic1"
   ]
  },
  {
   "cell_type": "code",
   "execution_count": 3,
   "id": "96366f70",
   "metadata": {},
   "outputs": [
    {
     "data": {
      "text/plain": [
       "20"
      ]
     },
     "execution_count": 3,
     "metadata": {},
     "output_type": "execute_result"
    }
   ],
   "source": [
    "dic1['k1']"
   ]
  },
  {
   "cell_type": "code",
   "execution_count": 4,
   "id": "299e2f3c",
   "metadata": {},
   "outputs": [
    {
     "data": {
      "text/plain": [
       "{'k1': 20, 'k2': 'Tirupati', 'k3': 'ap', 'k4': 'AITS'}"
      ]
     },
     "execution_count": 4,
     "metadata": {},
     "output_type": "execute_result"
    }
   ],
   "source": [
    "dic1['k4']='AITS'\n",
    "dic1"
   ]
  },
  {
   "cell_type": "code",
   "execution_count": 5,
   "id": "3348da26",
   "metadata": {},
   "outputs": [
    {
     "data": {
      "text/plain": [
       "{'k1': 'AP', 'k2': 'Tirupati', 'k3': 'ap', 'k4': 'AITS'}"
      ]
     },
     "execution_count": 5,
     "metadata": {},
     "output_type": "execute_result"
    }
   ],
   "source": [
    "dic1['k1']='AP'\n",
    "dic1"
   ]
  },
  {
   "cell_type": "code",
   "execution_count": 6,
   "id": "a3b5aa1b",
   "metadata": {},
   "outputs": [
    {
     "name": "stdout",
     "output_type": "stream",
     "text": [
      "['__class__', '__contains__', '__delattr__', '__delitem__', '__dir__', '__doc__', '__eq__', '__format__', '__ge__', '__getattribute__', '__getitem__', '__gt__', '__hash__', '__init__', '__init_subclass__', '__iter__', '__le__', '__len__', '__lt__', '__ne__', '__new__', '__reduce__', '__reduce_ex__', '__repr__', '__reversed__', '__setattr__', '__setitem__', '__sizeof__', '__str__', '__subclasshook__', 'clear', 'copy', 'fromkeys', 'get', 'items', 'keys', 'pop', 'popitem', 'setdefault', 'update', 'values']\n"
     ]
    }
   ],
   "source": [
    "print(dir(dict))"
   ]
  },
  {
   "cell_type": "code",
   "execution_count": 8,
   "id": "c2c714f5",
   "metadata": {},
   "outputs": [
    {
     "name": "stdout",
     "output_type": "stream",
     "text": [
      "{'a': None, 'b': None, 'c': None}\n",
      "{'a': 100, 'b': 100, 'c': 100}\n"
     ]
    }
   ],
   "source": [
    "##fromkeys\n",
    "d=('a','b','c')\n",
    "d1=dict.fromkeys(d)\n",
    "print(d1)\n",
    "d2=dict.fromkeys(d,100)\n",
    "print(d2)"
   ]
  },
  {
   "cell_type": "code",
   "execution_count": 9,
   "id": "d1bf117d",
   "metadata": {},
   "outputs": [
    {
     "data": {
      "text/plain": [
       "{'a': 'Guntur', 'b': 100, 'c': 100}"
      ]
     },
     "execution_count": 9,
     "metadata": {},
     "output_type": "execute_result"
    }
   ],
   "source": [
    "d2.update({'a':'Guntur'})\n",
    "d2"
   ]
  },
  {
   "cell_type": "code",
   "execution_count": 11,
   "id": "1846b42d",
   "metadata": {},
   "outputs": [
    {
     "data": {
      "text/plain": [
       "{'k1': 'AP', 'k2': 'Tirupati', 'k3': 'ap', 'k4': 'AITS'}"
      ]
     },
     "execution_count": 11,
     "metadata": {},
     "output_type": "execute_result"
    }
   ],
   "source": [
    "dic1"
   ]
  },
  {
   "cell_type": "code",
   "execution_count": 13,
   "id": "b91314e4",
   "metadata": {},
   "outputs": [
    {
     "data": {
      "text/plain": [
       "'AP'"
      ]
     },
     "execution_count": 13,
     "metadata": {},
     "output_type": "execute_result"
    }
   ],
   "source": [
    "dic1.pop('k1')"
   ]
  },
  {
   "cell_type": "code",
   "execution_count": 14,
   "id": "86387be6",
   "metadata": {},
   "outputs": [
    {
     "data": {
      "text/plain": [
       "{'k2': 'Tirupati', 'k3': 'ap', 'k4': 'AITS'}"
      ]
     },
     "execution_count": 14,
     "metadata": {},
     "output_type": "execute_result"
    }
   ],
   "source": [
    "dic1"
   ]
  },
  {
   "cell_type": "code",
   "execution_count": 15,
   "id": "068277ca",
   "metadata": {},
   "outputs": [
    {
     "data": {
      "text/plain": [
       "{'k2': 'Tirupati', 'k3': 'ap'}"
      ]
     },
     "execution_count": 15,
     "metadata": {},
     "output_type": "execute_result"
    }
   ],
   "source": [
    "dic1.popitem()\n",
    "dic1"
   ]
  },
  {
   "cell_type": "code",
   "execution_count": 16,
   "id": "e905047a",
   "metadata": {},
   "outputs": [
    {
     "data": {
      "text/plain": [
       "'ap'"
      ]
     },
     "execution_count": 16,
     "metadata": {},
     "output_type": "execute_result"
    }
   ],
   "source": [
    "dic1.setdefault('k3')"
   ]
  },
  {
   "cell_type": "code",
   "execution_count": 17,
   "id": "9fffd198",
   "metadata": {},
   "outputs": [],
   "source": [
    "dic1.setdefault('k5')"
   ]
  },
  {
   "cell_type": "code",
   "execution_count": 18,
   "id": "d54274b9",
   "metadata": {},
   "outputs": [
    {
     "data": {
      "text/plain": [
       "{'k2': 'Tirupati', 'k3': 'ap', 'k5': None}"
      ]
     },
     "execution_count": 18,
     "metadata": {},
     "output_type": "execute_result"
    }
   ],
   "source": [
    "dic1"
   ]
  },
  {
   "cell_type": "code",
   "execution_count": 19,
   "id": "2e4a2d62",
   "metadata": {},
   "outputs": [],
   "source": [
    "dic1['k5']='course'"
   ]
  },
  {
   "cell_type": "code",
   "execution_count": 20,
   "id": "0cd2cf97",
   "metadata": {},
   "outputs": [
    {
     "data": {
      "text/plain": [
       "{'k2': 'Tirupati', 'k3': 'ap', 'k5': 'course'}"
      ]
     },
     "execution_count": 20,
     "metadata": {},
     "output_type": "execute_result"
    }
   ],
   "source": [
    "dic1"
   ]
  },
  {
   "cell_type": "code",
   "execution_count": 22,
   "id": "7d1768e0",
   "metadata": {},
   "outputs": [
    {
     "data": {
      "text/plain": [
       "dict_keys(['k2', 'k3', 'k5'])"
      ]
     },
     "execution_count": 22,
     "metadata": {},
     "output_type": "execute_result"
    }
   ],
   "source": [
    "dic1.keys()\n"
   ]
  },
  {
   "cell_type": "code",
   "execution_count": 23,
   "id": "f504b80f",
   "metadata": {},
   "outputs": [
    {
     "data": {
      "text/plain": [
       "dict_values(['Tirupati', 'ap', 'course'])"
      ]
     },
     "execution_count": 23,
     "metadata": {},
     "output_type": "execute_result"
    }
   ],
   "source": [
    "dic1.values()"
   ]
  },
  {
   "cell_type": "code",
   "execution_count": 24,
   "id": "b1f5e79d",
   "metadata": {},
   "outputs": [
    {
     "data": {
      "text/plain": [
       "dict_items([('k2', 'Tirupati'), ('k3', 'ap'), ('k5', 'course')])"
      ]
     },
     "execution_count": 24,
     "metadata": {},
     "output_type": "execute_result"
    }
   ],
   "source": [
    "dic1.items()"
   ]
  },
  {
   "cell_type": "code",
   "execution_count": 25,
   "id": "0666797f",
   "metadata": {},
   "outputs": [
    {
     "name": "stdout",
     "output_type": "stream",
     "text": [
      "k2\n",
      "k3\n",
      "k5\n"
     ]
    }
   ],
   "source": [
    "for i in dic1.keys():\n",
    "    print(i)"
   ]
  },
  {
   "cell_type": "code",
   "execution_count": 27,
   "id": "0dbea33c",
   "metadata": {},
   "outputs": [
    {
     "name": "stdout",
     "output_type": "stream",
     "text": [
      "Tirupati\n",
      "ap\n",
      "course\n"
     ]
    }
   ],
   "source": [
    "for i in dic1.values():\n",
    "    print(i)"
   ]
  },
  {
   "cell_type": "code",
   "execution_count": 28,
   "id": "8bb59698",
   "metadata": {},
   "outputs": [
    {
     "name": "stdout",
     "output_type": "stream",
     "text": [
      "('k2', 'Tirupati')\n",
      "('k3', 'ap')\n",
      "('k5', 'course')\n"
     ]
    }
   ],
   "source": [
    "for i in dic1.items():\n",
    "    print(i)"
   ]
  },
  {
   "cell_type": "code",
   "execution_count": 29,
   "id": "80eb1400",
   "metadata": {},
   "outputs": [
    {
     "data": {
      "text/plain": [
       "{'k2': 'Tirupati', 'k3': 'ap', 'k5': 'course'}"
      ]
     },
     "execution_count": 29,
     "metadata": {},
     "output_type": "execute_result"
    }
   ],
   "source": [
    "dic1"
   ]
  },
  {
   "cell_type": "code",
   "execution_count": 30,
   "id": "cca3545b",
   "metadata": {},
   "outputs": [
    {
     "data": {
      "text/plain": [
       "{'k2': 'Tirupati', 'k3': 'ap', 'k5': 'course'}"
      ]
     },
     "execution_count": 30,
     "metadata": {},
     "output_type": "execute_result"
    }
   ],
   "source": [
    "n=dic1.copy()\n",
    "n"
   ]
  },
  {
   "cell_type": "code",
   "execution_count": 31,
   "id": "8b50cf04",
   "metadata": {},
   "outputs": [],
   "source": [
    "contact={}\n",
    "def contactApp(name,number):\n",
    "    if name not in contact:\n",
    "        contact[name]=number\n",
    "        print('contact added')\n",
    "    else:\n",
    "        print('name alredy existed')\n",
    "    return contact"
   ]
  },
  {
   "cell_type": "code",
   "execution_count": 32,
   "id": "a4ac309f",
   "metadata": {},
   "outputs": [
    {
     "name": "stdout",
     "output_type": "stream",
     "text": [
      "contact added\n"
     ]
    },
    {
     "data": {
      "text/plain": [
       "{'swathi': 9704561230}"
      ]
     },
     "execution_count": 32,
     "metadata": {},
     "output_type": "execute_result"
    }
   ],
   "source": [
    "contactApp('swathi',9704561230)"
   ]
  },
  {
   "cell_type": "code",
   "execution_count": 36,
   "id": "70e40e84",
   "metadata": {},
   "outputs": [
    {
     "name": "stdout",
     "output_type": "stream",
     "text": [
      "name alredy existed\n",
      "{'swathi': 9704561230, 'mouni': 8790342865}\n",
      "name alredy existed\n",
      "{'swathi': 9704561230, 'mouni': 8790342865}\n"
     ]
    }
   ],
   "source": [
    "print(contactApp('mouni',8790342865))\n",
    "print(contactApp('swathi',9704561289))"
   ]
  },
  {
   "cell_type": "code",
   "execution_count": 37,
   "id": "9144946f",
   "metadata": {},
   "outputs": [
    {
     "name": "stdout",
     "output_type": "stream",
     "text": [
      "contact added\n",
      "{'swathi': 9704561230, 'mouni': 8790342865, 'Raju': 1234456}\n"
     ]
    }
   ],
   "source": [
    "print(contactApp('Raju',1234456))"
   ]
  },
  {
   "cell_type": "markdown",
   "id": "ff35cd3a",
   "metadata": {},
   "source": [
    "## Set\n",
    "- set is collection of heteroginious data\n",
    "-  set is unordered and unindexed \n",
    "- duplicate elements are not allowed\n",
    "- set will delete or eliminate duplicate elements\n"
   ]
  },
  {
   "cell_type": "code",
   "execution_count": 39,
   "id": "4d2adeb0",
   "metadata": {},
   "outputs": [
    {
     "data": {
      "text/plain": [
       "set"
      ]
     },
     "execution_count": 39,
     "metadata": {},
     "output_type": "execute_result"
    }
   ],
   "source": [
    "s={1}\n",
    "type(s)"
   ]
  },
  {
   "cell_type": "code",
   "execution_count": 40,
   "id": "61e92bbb",
   "metadata": {},
   "outputs": [
    {
     "data": {
      "text/plain": [
       "{1, '1.04', 1.3, 2, 3, 4, 6.9, 'a'}"
      ]
     },
     "execution_count": 40,
     "metadata": {},
     "output_type": "execute_result"
    }
   ],
   "source": [
    "s={1,2,3,4,1,2,3,1,2,'a',6.9,'1.04',1.30}\n",
    "s"
   ]
  },
  {
   "cell_type": "code",
   "execution_count": 41,
   "id": "358225ab",
   "metadata": {},
   "outputs": [
    {
     "name": "stdout",
     "output_type": "stream",
     "text": [
      "{1, 2, 3, 4, '1.04', 6.9, 1.3, 'a'}\n"
     ]
    }
   ],
   "source": [
    "print(s)"
   ]
  },
  {
   "cell_type": "code",
   "execution_count": 42,
   "id": "21da4c84",
   "metadata": {},
   "outputs": [
    {
     "name": "stdout",
     "output_type": "stream",
     "text": [
      "['__and__', '__class__', '__contains__', '__delattr__', '__dir__', '__doc__', '__eq__', '__format__', '__ge__', '__getattribute__', '__gt__', '__hash__', '__iand__', '__init__', '__init_subclass__', '__ior__', '__isub__', '__iter__', '__ixor__', '__le__', '__len__', '__lt__', '__ne__', '__new__', '__or__', '__rand__', '__reduce__', '__reduce_ex__', '__repr__', '__ror__', '__rsub__', '__rxor__', '__setattr__', '__sizeof__', '__str__', '__sub__', '__subclasshook__', '__xor__', 'add', 'clear', 'copy', 'difference', 'difference_update', 'discard', 'intersection', 'intersection_update', 'isdisjoint', 'issubset', 'issuperset', 'pop', 'remove', 'symmetric_difference', 'symmetric_difference_update', 'union', 'update']\n"
     ]
    }
   ],
   "source": [
    "print(dir(set))"
   ]
  },
  {
   "cell_type": "code",
   "execution_count": 43,
   "id": "7f51d874",
   "metadata": {},
   "outputs": [
    {
     "data": {
      "text/plain": [
       "{1, '1.04', 1.3, 2, 3, 4, 6.9, 'a', 'name'}"
      ]
     },
     "execution_count": 43,
     "metadata": {},
     "output_type": "execute_result"
    }
   ],
   "source": [
    "s.add('name')\n",
    "s"
   ]
  },
  {
   "cell_type": "code",
   "execution_count": 44,
   "id": "1b2f8a9b",
   "metadata": {},
   "outputs": [
    {
     "data": {
      "text/plain": [
       "{'1.04', 1.3, 2, 3, 4, 6.9, 'a', 'name'}"
      ]
     },
     "execution_count": 44,
     "metadata": {},
     "output_type": "execute_result"
    }
   ],
   "source": [
    "s.pop()\n",
    "s"
   ]
  },
  {
   "cell_type": "code",
   "execution_count": 45,
   "id": "cd61d5d8",
   "metadata": {},
   "outputs": [
    {
     "data": {
      "text/plain": [
       "{'1.04', 1.3, 3, 4, 6.9, 'a', 'name'}"
      ]
     },
     "execution_count": 45,
     "metadata": {},
     "output_type": "execute_result"
    }
   ],
   "source": [
    "s.pop()\n",
    "s"
   ]
  },
  {
   "cell_type": "code",
   "execution_count": 46,
   "id": "1d57c464",
   "metadata": {},
   "outputs": [
    {
     "data": {
      "text/plain": [
       "{'1.04', 1.3, 3, 4, 6.9, 'name'}"
      ]
     },
     "execution_count": 46,
     "metadata": {},
     "output_type": "execute_result"
    }
   ],
   "source": [
    "s.remove('a')\n",
    "s"
   ]
  },
  {
   "cell_type": "code",
   "execution_count": 47,
   "id": "fcfdf702",
   "metadata": {},
   "outputs": [
    {
     "data": {
      "text/plain": [
       "{'1.04', 1.3, 3, 4, 'name'}"
      ]
     },
     "execution_count": 47,
     "metadata": {},
     "output_type": "execute_result"
    }
   ],
   "source": [
    "s.discard(6.9)\n",
    "s"
   ]
  },
  {
   "cell_type": "code",
   "execution_count": 48,
   "id": "f2784400",
   "metadata": {},
   "outputs": [
    {
     "data": {
      "text/plain": [
       "{'1.04', 1.3, 3, 4, 'name'}"
      ]
     },
     "execution_count": 48,
     "metadata": {},
     "output_type": "execute_result"
    }
   ],
   "source": [
    "s.discard(100)\n",
    "s"
   ]
  },
  {
   "cell_type": "code",
   "execution_count": 49,
   "id": "c4227196",
   "metadata": {},
   "outputs": [
    {
     "ename": "KeyError",
     "evalue": "123",
     "output_type": "error",
     "traceback": [
      "\u001b[1;31m---------------------------------------------------------------------------\u001b[0m",
      "\u001b[1;31mKeyError\u001b[0m                                  Traceback (most recent call last)",
      "\u001b[1;32m<ipython-input-49-e466dcf524d4>\u001b[0m in \u001b[0;36m<module>\u001b[1;34m\u001b[0m\n\u001b[1;32m----> 1\u001b[1;33m \u001b[0ms\u001b[0m\u001b[1;33m.\u001b[0m\u001b[0mremove\u001b[0m\u001b[1;33m(\u001b[0m\u001b[1;36m123\u001b[0m\u001b[1;33m)\u001b[0m\u001b[1;33m\u001b[0m\u001b[1;33m\u001b[0m\u001b[0m\n\u001b[0m\u001b[0;32m      2\u001b[0m \u001b[0ms\u001b[0m\u001b[1;33m\u001b[0m\u001b[1;33m\u001b[0m\u001b[0m\n",
      "\u001b[1;31mKeyError\u001b[0m: 123"
     ]
    }
   ],
   "source": [
    "s.remove(123)\n",
    "s"
   ]
  },
  {
   "cell_type": "markdown",
   "id": "6d83c879",
   "metadata": {},
   "source": [
    "- difference\n",
    "   - removes common elements in two sets and returns unique elements in first set\n",
    "- syntax\n",
    "  - set1.difference(set2)"
   ]
  },
  {
   "cell_type": "code",
   "execution_count": 53,
   "id": "f52ebe25",
   "metadata": {},
   "outputs": [
    {
     "name": "stdout",
     "output_type": "stream",
     "text": [
      "{9, 3, 5}\n",
      "{4, 7}\n"
     ]
    }
   ],
   "source": [
    "s1={10,1,5,3,9}\n",
    "s2={1,10,4,7}\n",
    "s3=s1.difference(s2)\n",
    "s4=s2.difference(s1)\n",
    "print(s3)\n",
    "print(s4)"
   ]
  },
  {
   "cell_type": "markdown",
   "id": "cd2c2e90",
   "metadata": {},
   "source": [
    "- difference_update()\n",
    "  - it returns the new updated set after making the difference between two sets\n",
    "  - change the original set\n",
    "- syntax\n",
    "   - set1.difference_update(set2)"
   ]
  },
  {
   "cell_type": "code",
   "execution_count": 56,
   "id": "c4224a58",
   "metadata": {},
   "outputs": [
    {
     "data": {
      "text/plain": [
       "{3, 4, 5}"
      ]
     },
     "execution_count": 56,
     "metadata": {},
     "output_type": "execute_result"
    }
   ],
   "source": [
    "a1={1,2,3,4,5}\n",
    "a2={1,2,78,45,32}\n",
    "a1.difference_update(a2)\n",
    "a1"
   ]
  },
  {
   "cell_type": "markdown",
   "id": "15f4b16e",
   "metadata": {},
   "source": [
    "### union"
   ]
  },
  {
   "cell_type": "code",
   "execution_count": 57,
   "id": "c11d6921",
   "metadata": {},
   "outputs": [
    {
     "data": {
      "text/plain": [
       "{11, 12, 23, 56}"
      ]
     },
     "execution_count": 57,
     "metadata": {},
     "output_type": "execute_result"
    }
   ],
   "source": [
    "d={23,56,12,11}\n",
    "e={67,88,11,22}\n",
    "d.union(e)\n",
    "d"
   ]
  },
  {
   "cell_type": "markdown",
   "id": "bbecf58c",
   "metadata": {},
   "source": [
    "- intersection\n",
    "  - returns the common elements in two sets\n",
    "- intersection_update()\n",
    "  - removes the elements in one set which are not present in another set\n",
    "  - returns the updated set"
   ]
  },
  {
   "cell_type": "code",
   "execution_count": 59,
   "id": "48322cd8",
   "metadata": {},
   "outputs": [
    {
     "data": {
      "text/plain": [
       "{12, 67, 89}"
      ]
     },
     "execution_count": 59,
     "metadata": {},
     "output_type": "execute_result"
    }
   ],
   "source": [
    "b={12,34,67,89,75}\n",
    "c={12,56,78,89,33,77,67}\n",
    "res=b.intersection(c)\n",
    "res"
   ]
  },
  {
   "cell_type": "code",
   "execution_count": 60,
   "id": "f361800d",
   "metadata": {},
   "outputs": [
    {
     "data": {
      "text/plain": [
       "{12, 67, 89}"
      ]
     },
     "execution_count": 60,
     "metadata": {},
     "output_type": "execute_result"
    }
   ],
   "source": [
    "n={12,34,67,89,75}\n",
    "m={12,56,78,89,33,77,67}\n",
    "n.intersection_update(m)\n",
    "n"
   ]
  },
  {
   "cell_type": "markdown",
   "id": "369da86f",
   "metadata": {},
   "source": [
    "- isdisjoint()\n",
    "  - returns True if elements in set1 does not matches with elements in set2\n",
    "  - else return False"
   ]
  },
  {
   "cell_type": "code",
   "execution_count": 61,
   "id": "8dedc99b",
   "metadata": {},
   "outputs": [
    {
     "name": "stdout",
     "output_type": "stream",
     "text": [
      "True\n",
      "False\n"
     ]
    }
   ],
   "source": [
    "a={1,2,3,4,5,6}\n",
    "b={7,8,9,10}\n",
    "c={1,2,3,4,5}\n",
    "r1=a.isdisjoint(b)\n",
    "r2=c.isdisjoint(a)\n",
    "print(r1)\n",
    "print(r2)"
   ]
  },
  {
   "cell_type": "markdown",
   "id": "a14c70ec",
   "metadata": {},
   "source": [
    "- issubset()\n",
    "  - returns True if all elements in set1 matches with elements in set2\n",
    "  - else return False"
   ]
  },
  {
   "cell_type": "code",
   "execution_count": 62,
   "id": "2b2fec36",
   "metadata": {},
   "outputs": [
    {
     "name": "stdout",
     "output_type": "stream",
     "text": [
      "True\n",
      "False\n"
     ]
    }
   ],
   "source": [
    "g={1,2,3,4,5,6,7}\n",
    "h={1,2,3}\n",
    "j={56,78,98}\n",
    "rs=h.issubset(g)\n",
    "rs1=j.issubset(g)\n",
    "print(rs)\n",
    "print(rs1)"
   ]
  },
  {
   "cell_type": "markdown",
   "id": "148c0c0e",
   "metadata": {},
   "source": [
    "- symmetric_difference()\n",
    "  - it returns unique elements in two sets\n",
    "- symmetric_difference_update()\n",
    "  - it returns the new updated set after making the symmetric_difference between two sets"
   ]
  },
  {
   "cell_type": "code",
   "execution_count": 63,
   "id": "1c35dd4c",
   "metadata": {},
   "outputs": [
    {
     "name": "stdout",
     "output_type": "stream",
     "text": [
      "{34, 7, 4, 6, 12}\n"
     ]
    }
   ],
   "source": [
    "f={1,3,2,4,5,6,7}\n",
    "l={1,3,2,12,34,5}\n",
    "t=f.symmetric_difference(l)\n",
    "print(t)"
   ]
  },
  {
   "cell_type": "code",
   "execution_count": 64,
   "id": "1515d491",
   "metadata": {},
   "outputs": [
    {
     "name": "stdout",
     "output_type": "stream",
     "text": [
      "{34, 4, 6, 7, 12}\n"
     ]
    }
   ],
   "source": [
    "v={1,3,2,4,5,6,7}\n",
    "y={1,3,2,12,34,5}\n",
    "v.symmetric_difference_update(y)\n",
    "print(v)"
   ]
  },
  {
   "cell_type": "markdown",
   "id": "7e459b94",
   "metadata": {},
   "source": [
    " ## Tuple\n",
    " - representing tuple by ()\n",
    " - ordered \n",
    " - immutable in nature\n",
    " - it allows duplicate elements"
   ]
  },
  {
   "cell_type": "code",
   "execution_count": 65,
   "id": "46416076",
   "metadata": {},
   "outputs": [
    {
     "data": {
      "text/plain": [
       "(1, 'hello', 6.9, 1)"
      ]
     },
     "execution_count": 65,
     "metadata": {},
     "output_type": "execute_result"
    }
   ],
   "source": [
    "t=(1,'hello',6.9,1)\n",
    "t"
   ]
  },
  {
   "cell_type": "code",
   "execution_count": 66,
   "id": "e79874d3",
   "metadata": {},
   "outputs": [
    {
     "data": {
      "text/plain": [
       "1"
      ]
     },
     "execution_count": 66,
     "metadata": {},
     "output_type": "execute_result"
    }
   ],
   "source": [
    "t[0]"
   ]
  },
  {
   "cell_type": "code",
   "execution_count": 67,
   "id": "cb7d1b66",
   "metadata": {},
   "outputs": [
    {
     "data": {
      "text/plain": [
       "1"
      ]
     },
     "execution_count": 67,
     "metadata": {},
     "output_type": "execute_result"
    }
   ],
   "source": [
    "t[-1]"
   ]
  },
  {
   "cell_type": "code",
   "execution_count": 69,
   "id": "8e09dc05",
   "metadata": {},
   "outputs": [
    {
     "ename": "TypeError",
     "evalue": "'tuple' object does not support item assignment",
     "output_type": "error",
     "traceback": [
      "\u001b[1;31m---------------------------------------------------------------------------\u001b[0m",
      "\u001b[1;31mTypeError\u001b[0m                                 Traceback (most recent call last)",
      "\u001b[1;32m<ipython-input-69-5f85d41c18ac>\u001b[0m in \u001b[0;36m<module>\u001b[1;34m\u001b[0m\n\u001b[1;32m----> 1\u001b[1;33m \u001b[0mt\u001b[0m\u001b[1;33m[\u001b[0m\u001b[1;36m0\u001b[0m\u001b[1;33m]\u001b[0m\u001b[1;33m=\u001b[0m\u001b[1;34m'AP'\u001b[0m\u001b[1;33m\u001b[0m\u001b[1;33m\u001b[0m\u001b[0m\n\u001b[0m\u001b[0;32m      2\u001b[0m \u001b[0mt\u001b[0m\u001b[1;33m\u001b[0m\u001b[1;33m\u001b[0m\u001b[0m\n",
      "\u001b[1;31mTypeError\u001b[0m: 'tuple' object does not support item assignment"
     ]
    }
   ],
   "source": [
    "#example for immutable\n",
    "t[0]='AP'\n",
    "t"
   ]
  },
  {
   "cell_type": "code",
   "execution_count": 70,
   "id": "1bc04474",
   "metadata": {},
   "outputs": [
    {
     "name": "stdout",
     "output_type": "stream",
     "text": [
      "['__add__', '__class__', '__contains__', '__delattr__', '__dir__', '__doc__', '__eq__', '__format__', '__ge__', '__getattribute__', '__getitem__', '__getnewargs__', '__gt__', '__hash__', '__init__', '__init_subclass__', '__iter__', '__le__', '__len__', '__lt__', '__mul__', '__ne__', '__new__', '__reduce__', '__reduce_ex__', '__repr__', '__rmul__', '__setattr__', '__sizeof__', '__str__', '__subclasshook__', 'count', 'index']\n"
     ]
    }
   ],
   "source": [
    "print(dir(tuple))"
   ]
  },
  {
   "cell_type": "code",
   "execution_count": 71,
   "id": "b82ac6c6",
   "metadata": {},
   "outputs": [
    {
     "data": {
      "text/plain": [
       "(1, 'hello', 6.9, 1)"
      ]
     },
     "execution_count": 71,
     "metadata": {},
     "output_type": "execute_result"
    }
   ],
   "source": [
    "t"
   ]
  },
  {
   "cell_type": "code",
   "execution_count": 72,
   "id": "44ec9fcf",
   "metadata": {},
   "outputs": [
    {
     "data": {
      "text/plain": [
       "2"
      ]
     },
     "execution_count": 72,
     "metadata": {},
     "output_type": "execute_result"
    }
   ],
   "source": [
    "t.count(1)"
   ]
  },
  {
   "cell_type": "code",
   "execution_count": 73,
   "id": "16a3bdeb",
   "metadata": {},
   "outputs": [
    {
     "data": {
      "text/plain": [
       "1"
      ]
     },
     "execution_count": 73,
     "metadata": {},
     "output_type": "execute_result"
    }
   ],
   "source": [
    "t.index('hello')"
   ]
  },
  {
   "cell_type": "code",
   "execution_count": 74,
   "id": "35edeaad",
   "metadata": {},
   "outputs": [
    {
     "data": {
      "text/plain": [
       "(1, 'hello', 6.9)"
      ]
     },
     "execution_count": 74,
     "metadata": {},
     "output_type": "execute_result"
    }
   ],
   "source": [
    "n=list(t)\n",
    "n.pop()\n",
    "z=tuple(n)\n",
    "z"
   ]
  },
  {
   "cell_type": "code",
   "execution_count": 75,
   "id": "e39a9f2e",
   "metadata": {},
   "outputs": [
    {
     "data": {
      "text/plain": [
       "(1, 'hello', 6.9, 1, 'name')"
      ]
     },
     "execution_count": 75,
     "metadata": {},
     "output_type": "execute_result"
    }
   ],
   "source": [
    "m=list(t)\n",
    "m.append('name')\n",
    "x=tuple(m)\n",
    "x"
   ]
  },
  {
   "cell_type": "markdown",
   "id": "5b91d6c1",
   "metadata": {},
   "source": []
  }
 ],
 "metadata": {
  "kernelspec": {
   "display_name": "Python 3",
   "language": "python",
   "name": "python3"
  },
  "language_info": {
   "codemirror_mode": {
    "name": "ipython",
    "version": 3
   },
   "file_extension": ".py",
   "mimetype": "text/x-python",
   "name": "python",
   "nbconvert_exporter": "python",
   "pygments_lexer": "ipython3",
   "version": "3.8.8"
  }
 },
 "nbformat": 4,
 "nbformat_minor": 5
}
