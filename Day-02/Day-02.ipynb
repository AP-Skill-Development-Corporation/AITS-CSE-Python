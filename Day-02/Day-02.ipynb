{
 "cells": [
  {
   "cell_type": "markdown",
   "id": "82acb051",
   "metadata": {},
   "source": [
    "## Static and Dynamic Programming:\n",
    "    Static Programming:\n",
    "    ==================\n",
    "        - Already the vlaue is fixed for a variable\n",
    "        - N number of users can get single output value\n",
    "    \n",
    "    Dynamic Programming:\n",
    "    ===================\n",
    "        - Values is not fixed for a variable it is to be accessed from a user\n",
    "        - N number of users can get n number of outputs"
   ]
  },
  {
   "cell_type": "markdown",
   "id": "dd4ffd02",
   "metadata": {},
   "source": [
    "## Input\n",
    "    => For dynamic input access from a user\n",
    "    => syntax:\n",
    "        variablename = input(\"message.....\")\n",
    "    => By default it stores string data type values"
   ]
  },
  {
   "cell_type": "code",
   "execution_count": 1,
   "id": "8fd39445",
   "metadata": {},
   "outputs": [
    {
     "name": "stdout",
     "output_type": "stream",
     "text": [
      "Enter a value: 45\n",
      "45 <class 'str'>\n"
     ]
    }
   ],
   "source": [
    "y = input(\"Enter a value: \")\n",
    "print(y,type(y))"
   ]
  },
  {
   "cell_type": "code",
   "execution_count": 3,
   "id": "e7e7a7f9",
   "metadata": {},
   "outputs": [
    {
     "data": {
      "text/plain": [
       "10"
      ]
     },
     "execution_count": 3,
     "metadata": {},
     "output_type": "execute_result"
    }
   ],
   "source": [
    "a = 10\n",
    "a"
   ]
  },
  {
   "cell_type": "code",
   "execution_count": 6,
   "id": "d97c5aa1",
   "metadata": {},
   "outputs": [
    {
     "name": "stdout",
     "output_type": "stream",
     "text": [
      "12asd\n",
      "12asd <class 'str'>\n"
     ]
    }
   ],
   "source": [
    "j = input()\n",
    "print(j,type(j))"
   ]
  },
  {
   "cell_type": "markdown",
   "id": "c73fb410",
   "metadata": {},
   "source": [
    "## Typecasting:\n",
    "    - To change one data type to another data type\n",
    "    - int()\n",
    "    - float()\n",
    "    - str()\n",
    "    - All Data Structures[list,tuple,set,dictionary]"
   ]
  },
  {
   "cell_type": "code",
   "execution_count": 9,
   "id": "205ef33b",
   "metadata": {},
   "outputs": [
    {
     "name": "stdout",
     "output_type": "stream",
     "text": [
      "Enter a value: 12\n",
      "12 <class 'int'>\n",
      "12 <class 'str'>\n"
     ]
    }
   ],
   "source": [
    "r = input(\"Enter a value: \")\n",
    "print(int(r),type(int(r)))\n",
    "print(r,type(r))"
   ]
  },
  {
   "cell_type": "code",
   "execution_count": 10,
   "id": "461ccbb4",
   "metadata": {},
   "outputs": [
    {
     "name": "stdout",
     "output_type": "stream",
     "text": [
      "Enter a number: 45\n",
      "45 <class 'int'>\n"
     ]
    }
   ],
   "source": [
    "h = int(input(\"Enter a number: \"))\n",
    "print(h,type(h))"
   ]
  },
  {
   "cell_type": "code",
   "execution_count": 12,
   "id": "b0d52988",
   "metadata": {},
   "outputs": [
    {
     "data": {
      "text/plain": [
       "int"
      ]
     },
     "execution_count": 12,
     "metadata": {},
     "output_type": "execute_result"
    }
   ],
   "source": [
    "type(h)"
   ]
  },
  {
   "cell_type": "code",
   "execution_count": 13,
   "id": "776862c1",
   "metadata": {},
   "outputs": [
    {
     "name": "stdout",
     "output_type": "stream",
     "text": [
      "Enter a number: 48\n",
      "48.0 <class 'float'>\n"
     ]
    }
   ],
   "source": [
    "e = float(input(\"Enter a number: \"))\n",
    "print(e,type(e))"
   ]
  },
  {
   "cell_type": "code",
   "execution_count": 14,
   "id": "7fd8b5bd",
   "metadata": {},
   "outputs": [
    {
     "name": "stdout",
     "output_type": "stream",
     "text": [
      "Enter First Value: 78\n",
      "Enter Second Value: 45\n",
      "Entered number 78 and 45\n"
     ]
    }
   ],
   "source": [
    "g = input(\"Enter First Value: \")\n",
    "d = input(\"Enter Second Value: \")\n",
    "print(\"Entered number\",g,\"and\",d)"
   ]
  },
  {
   "cell_type": "markdown",
   "id": "dd4752da",
   "metadata": {},
   "source": [
    "```\n",
    "Task-1:\n",
    "Input:\n",
    "      12\n",
    "      45\n",
    "Output:\n",
    "      Entered number 12 and 45 its addition is: 57.0\n",
    "```"
   ]
  },
  {
   "cell_type": "code",
   "execution_count": 15,
   "id": "d0254ef2",
   "metadata": {},
   "outputs": [
    {
     "name": "stdout",
     "output_type": "stream",
     "text": [
      "12\n",
      "45\n",
      "Entered number 12 and 45 its addition is:  57.0\n"
     ]
    }
   ],
   "source": [
    "n = input()\n",
    "m = input()\n",
    "print(\"Entered number\",n,\"and\",m,\"its addition is: \",float(int(n)+int(m)))"
   ]
  },
  {
   "cell_type": "markdown",
   "id": "fd9defaa",
   "metadata": {},
   "source": [
    "## Output:\n",
    "    - ,\n",
    "    - %\n",
    "    - .format"
   ]
  },
  {
   "cell_type": "code",
   "execution_count": 16,
   "id": "dca49b36",
   "metadata": {},
   "outputs": [
    {
     "name": "stdout",
     "output_type": "stream",
     "text": [
      "Enter a value: 78\n",
      "Enter b value: 12\n",
      "Entered number 78 and 12 its substraction is: 66\n"
     ]
    }
   ],
   "source": [
    "b = int(input(\"Enter a value: \"))\n",
    "v = int(input(\"Enter b value: \"))\n",
    "print(\"Entered number %d and %d its substraction is: %d\"%(b,v,(b-v)))"
   ]
  },
  {
   "cell_type": "code",
   "execution_count": 18,
   "id": "840d8db9",
   "metadata": {},
   "outputs": [
    {
     "name": "stdout",
     "output_type": "stream",
     "text": [
      "Enter a value: 2\n",
      "Enter b value: 7\n",
      "Entered number 7 and 2 its multiplication is: 14\n"
     ]
    }
   ],
   "source": [
    "q = int(input(\"Enter a value: \"))\n",
    "e = int(input(\"Enter b value: \"))\n",
    "print(\"Entered number {1} and {0} its multiplication is: {2}\".format(q,e,q*e))"
   ]
  },
  {
   "cell_type": "markdown",
   "id": "2b1214a5",
   "metadata": {},
   "source": [
    "## Operators:\n",
    "    - Arithmetic -> +,-,*,/,%,//(floor Division),**(power) \n",
    "    - Assignment -> +=,-=,*=,/=,//=,%=\n",
    "    - Relational -> !=,==,>=,<=,>,<\n",
    "    - Bitwise -> &&,||,!,~,>>,<<\n",
    "    - Logical -> AND,OR,NOT,XOR\n",
    "    - Membership -> in,not in\n",
    "    - Identity -> is,is not"
   ]
  },
  {
   "cell_type": "markdown",
   "id": "b13f79f2",
   "metadata": {},
   "source": [
    "## Conditional Statements:\n",
    "    - To Check whether a given condition is either True or False\n",
    "    - if => single case\n",
    "    - if-else => two cases\n",
    "    - nested if => 3 or more cases\n",
    "    - elif => 3 or more n number of cases"
   ]
  },
  {
   "cell_type": "markdown",
   "id": "1ed09dd7",
   "metadata": {},
   "source": [
    "## if\n",
    "    Syntax: [Indendations]\n",
    "        if (condition):\n",
    "            //stmnts"
   ]
  },
  {
   "cell_type": "code",
   "execution_count": 22,
   "id": "a4a90014",
   "metadata": {},
   "outputs": [
    {
     "name": "stdout",
     "output_type": "stream",
     "text": [
      "Enter a value: 78\n"
     ]
    }
   ],
   "source": [
    "m = input(\"Enter a value: \")\n",
    "if int(m) == 45:\n",
    "    print(\"Entered value is: {} is equal to 45\".format(m))"
   ]
  },
  {
   "cell_type": "markdown",
   "id": "cec503a5",
   "metadata": {},
   "source": [
    "## If-else\n",
    "    Syntax:\n",
    "        if (condition-1):\n",
    "            //stmnt-1\n",
    "        else:\n",
    "            //stnmt-2"
   ]
  },
  {
   "cell_type": "code",
   "execution_count": 24,
   "id": "5cb2cea9",
   "metadata": {},
   "outputs": [
    {
     "name": "stdout",
     "output_type": "stream",
     "text": [
      "Enter a number: 100\n",
      "Entered Number 100 is equal to 100\n"
     ]
    }
   ],
   "source": [
    "g = int(input(\"Enter a number: \"))\n",
    "if g == 100:\n",
    "    print(\"Entered Number {} is equal to 100\".format(g))\n",
    "else:\n",
    "    print(\"Entered Number {} is not equal to 100\".format(g))"
   ]
  },
  {
   "cell_type": "markdown",
   "id": "146e6d22",
   "metadata": {},
   "source": [
    "## Nested if:\n",
    "    Syntax:\n",
    "        if (condition-1):\n",
    "            if(condition-2):\n",
    "                //stmnt-1\n",
    "            else:\n",
    "                //stmnt-2\n",
    "        else:\n",
    "            //stmnt-3"
   ]
  },
  {
   "cell_type": "code",
   "execution_count": 28,
   "id": "32703df8",
   "metadata": {},
   "outputs": [
    {
     "name": "stdout",
     "output_type": "stream",
     "text": [
      "Enter Username: sample@gmail.com\n",
      "Enter Password: 100\n",
      "Welcome User sample@gmail.com!!!\n"
     ]
    }
   ],
   "source": [
    "us = input(\"Enter Username: \") \n",
    "pd = input(\"Enter Password: \")\n",
    "if us == \"sample@gmail.com\":\n",
    "    if pd == \"100\":\n",
    "        print(\"Welcome User {}!!!\".format(us))\n",
    "    else:\n",
    "        print(\"Invalid Username/Password\")\n",
    "else:\n",
    "    print(\"Invalid Username/Password\")"
   ]
  },
  {
   "cell_type": "markdown",
   "id": "4111d9b3",
   "metadata": {},
   "source": [
    "## Elif\n",
    "    Syntax:\n",
    "        if condition-1:\n",
    "            //stmnt-1\n",
    "        elif condition-2:\n",
    "            //stmnt-2\n",
    "            |      |\n",
    "        elif condition-(n):\n",
    "            //stmnt-(n)\n",
    "        else:\n",
    "            //stmnt-(n-1)"
   ]
  },
  {
   "cell_type": "code",
   "execution_count": 33,
   "id": "54d95bfb",
   "metadata": {},
   "outputs": [
    {
     "name": "stdout",
     "output_type": "stream",
     "text": [
      "Enter a number: 203\n",
      "Given number 203 is greater than 200\n"
     ]
    }
   ],
   "source": [
    "n = int(input(\"Enter a number: \"))\n",
    "if n%2==0:\n",
    "    print(\"Given number {} is Even number\".format(n))\n",
    "elif n>200:\n",
    "    print(\"Given number {} is greater than 200\".format(n))\n",
    "elif n == 10:\n",
    "    print(\"Given number {} is equal to 10\".format(n))\n",
    "else:\n",
    "    print(\"Given number {} is not greater than 200\".format(n))"
   ]
  },
  {
   "cell_type": "markdown",
   "id": "b95da3d9",
   "metadata": {},
   "source": [
    "## Control Statements, Loop,Repititions,Iterations:\n",
    "    - To control the flow of execution\n",
    "    - for => For known ranges\n",
    "    - while => For known and unknown ranges [Infinity Loop]"
   ]
  },
  {
   "cell_type": "markdown",
   "id": "e89b3269",
   "metadata": {},
   "source": [
    "## for:\n",
    "    Syntax:\n",
    "    -------\n",
    "        for iterationvariablename in range(start,stop,step):\n",
    "            //stmnts\n",
    "                            (or)\n",
    "        for itemvalue in iterator:\n",
    "            //stmnts"
   ]
  },
  {
   "cell_type": "markdown",
   "id": "3a2b238e",
   "metadata": {},
   "source": [
    "## Range:\n",
    "    - range(stop)\n",
    "        -> By default it starts with 0\n",
    "        -> It ends with stop-1\n",
    "        -> By default increment value is 1\n",
    "        Ex:\n",
    "            range(5):\n",
    "        Output:\n",
    "            0 1 2 3 4\n",
    "    - range(start,stop):\n",
    "        -> It starts with exactly start value\n",
    "        -> It ends with stop-1\n",
    "        -> By default increment value is 1\n",
    "        Ex:\n",
    "            range(10,15):\n",
    "        Output:\n",
    "            10 11 12 13 14\n",
    "    - range(start,stop,step):\n",
    "        -> It starts with exactly start value\n",
    "        -> It ends with stop-1\n",
    "        -> It increments/decrement with step value\n",
    "        Ex:\n",
    "            range(25,30,2):\n",
    "        Output:\n",
    "            25 27 29 "
   ]
  },
  {
   "cell_type": "code",
   "execution_count": 39,
   "id": "1d7452ff",
   "metadata": {},
   "outputs": [
    {
     "name": "stdout",
     "output_type": "stream",
     "text": [
      "Enter a range: 10\n",
      "1 2 3 4 5 6 7 8 9 10 "
     ]
    }
   ],
   "source": [
    "n = int(input(\"Enter a range: \"))\n",
    "for i in range(n):\n",
    "    print(i+1,end=\" \")"
   ]
  },
  {
   "cell_type": "code",
   "execution_count": 40,
   "id": "76395b4d",
   "metadata": {},
   "outputs": [
    {
     "name": "stdout",
     "output_type": "stream",
     "text": [
      "Enter a range: 5\n",
      "5 4 3 2 1 "
     ]
    }
   ],
   "source": [
    "n = int(input(\"Enter a range: \"))\n",
    "for j in range(n):\n",
    "    print(n-j,end=\" \")"
   ]
  },
  {
   "cell_type": "code",
   "execution_count": 49,
   "id": "da3d0ca0",
   "metadata": {},
   "outputs": [
    {
     "name": "stdout",
     "output_type": "stream",
     "text": [
      "Enter start range: 300\n",
      "Enter ending range: 290\n",
      "0 -1 -2 -3 -4 -5 -6 -7 -8 -9 "
     ]
    }
   ],
   "source": [
    "s = int(input(\"Enter start range: \"))\n",
    "e = int(input(\"Enter ending range: \"))\n",
    "for n in range(e,s):\n",
    "    print(e-n,end=\" \")"
   ]
  },
  {
   "cell_type": "code",
   "execution_count": 51,
   "id": "be9512b2",
   "metadata": {},
   "outputs": [
    {
     "name": "stdout",
     "output_type": "stream",
     "text": [
      "Enter stat range: 500\n",
      "Enter end range: 100\n",
      "Enter step value: -50\n",
      "500 450 400 350 300 250 200 150 "
     ]
    }
   ],
   "source": [
    "s = int(input(\"Enter stat range: \"))\n",
    "e = int(input(\"Enter end range: \"))\n",
    "st = int(input(\"Enter step value: \"))\n",
    "for j in range(s,e,st):\n",
    "    print(j,end=\" \")"
   ]
  },
  {
   "cell_type": "code",
   "execution_count": null,
   "id": "ae01a8ef",
   "metadata": {},
   "outputs": [],
   "source": []
  }
 ],
 "metadata": {
  "kernelspec": {
   "display_name": "Python 3",
   "language": "python",
   "name": "python3"
  },
  "language_info": {
   "codemirror_mode": {
    "name": "ipython",
    "version": 3
   },
   "file_extension": ".py",
   "mimetype": "text/x-python",
   "name": "python",
   "nbconvert_exporter": "python",
   "pygments_lexer": "ipython3",
   "version": "3.7.5"
  }
 },
 "nbformat": 4,
 "nbformat_minor": 5
}
