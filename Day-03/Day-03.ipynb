{
 "cells": [
  {
   "cell_type": "markdown",
   "id": "06f565b3",
   "metadata": {},
   "source": [
    "## while\n",
    "    Syntax:\n",
    "    -------\n",
    "        iterationvariablename\n",
    "        while condition:\n",
    "            //stmnts\n",
    "            incre/decr"
   ]
  },
  {
   "cell_type": "code",
   "execution_count": 1,
   "id": "c1fa08fb",
   "metadata": {},
   "outputs": [
    {
     "name": "stdout",
     "output_type": "stream",
     "text": [
      "Enter a range: 10\n",
      "1 2 3 4 5 6 7 8 9 "
     ]
    }
   ],
   "source": [
    "n = int(input(\"Enter a range: \"))\n",
    "j = 1\n",
    "while n!=j:\n",
    "    print(j,end=\" \")\n",
    "    j +=1"
   ]
  },
  {
   "cell_type": "code",
   "execution_count": 3,
   "id": "1416a7ae",
   "metadata": {},
   "outputs": [
    {
     "name": "stdout",
     "output_type": "stream",
     "text": [
      "Enter a range: 15\n",
      "15 14 13 12 11 10 9 8 7 6 5 4 3 2 1 0 "
     ]
    }
   ],
   "source": [
    "m = int(input(\"Enter a range: \"))\n",
    "while m!=-1:\n",
    "    print(m,end=\" \")\n",
    "    m -=1"
   ]
  },
  {
   "cell_type": "code",
   "execution_count": 6,
   "id": "2bd65f02",
   "metadata": {},
   "outputs": [
    {
     "name": "stdout",
     "output_type": "stream",
     "text": [
      "1.First\n",
      "2.Second\n",
      "3.Third\n",
      "4.Exit\n",
      "5.Invalid\n",
      "Enter your choice: 2\n",
      "Selected Second Option\n",
      "1.First\n",
      "2.Second\n",
      "3.Third\n",
      "4.Exit\n",
      "5.Invalid\n",
      "Enter your choice: 0\n"
     ]
    }
   ],
   "source": [
    "while True:\n",
    "    print(\"1.First\\n2.Second\\n3.Third\\n4.Exit\\n5.Invalid\")\n",
    "    n = int(input(\"Enter your choice: \"))\n",
    "    if n == 1:\n",
    "        print(\"Selected First Option\")\n",
    "    elif n ==3:\n",
    "        print(\"Selected Third Option\")\n",
    "    elif n ==2:\n",
    "        print(\"Selected Second Option\")\n",
    "    elif n == 0:\n",
    "        break\n",
    "    else:\n",
    "        print(\"Select Correct option\")"
   ]
  },
  {
   "cell_type": "markdown",
   "id": "aeeec9f8",
   "metadata": {},
   "source": [
    "## Jumping Statements:\n",
    "    - break => It exists from the loop\n",
    "    - continue => It skips a value from a loop\n",
    "    - pass => It is also similar to continue but it can access for future enhancements\n",
    "    - return => It returns a value from a function [single,iterator]"
   ]
  },
  {
   "cell_type": "code",
   "execution_count": 9,
   "id": "f0a0c8c1",
   "metadata": {},
   "outputs": [
    {
     "name": "stdout",
     "output_type": "stream",
     "text": [
      "Enter a number: 30\n",
      "0 1 2 3 4 5 6 7 8 9 10\n"
     ]
    }
   ],
   "source": [
    "y = int(input(\"Enter a number: \"))\n",
    "for i in range(y):\n",
    "    if i == 10:\n",
    "        break\n",
    "    else:\n",
    "        print(i,end=\" \")\n",
    "print(i)"
   ]
  },
  {
   "cell_type": "code",
   "execution_count": 10,
   "id": "e758c27c",
   "metadata": {},
   "outputs": [
    {
     "name": "stdout",
     "output_type": "stream",
     "text": [
      "Enter a number: 30\n",
      "0 1 2 3 4 5 6 7 8 9 11 12 13 14 15 16 17 18 19 20 21 22 23 24 25 26 27 28 29 29\n"
     ]
    }
   ],
   "source": [
    "y = int(input(\"Enter a number: \"))\n",
    "for i in range(y):\n",
    "    if i == 10:\n",
    "        continue\n",
    "    else:\n",
    "        print(i,end=\" \")\n",
    "print(i)"
   ]
  },
  {
   "cell_type": "code",
   "execution_count": 11,
   "id": "44e14b33",
   "metadata": {},
   "outputs": [
    {
     "name": "stdout",
     "output_type": "stream",
     "text": [
      "Enter a number: 15\n",
      "0 1 2 3 4 5 6 7 8 9 11 12 13 14 14\n"
     ]
    }
   ],
   "source": [
    "y = int(input(\"Enter a number: \"))\n",
    "for i in range(y):\n",
    "    if i == 10:\n",
    "        pass\n",
    "    else:\n",
    "        print(i,end=\" \")\n",
    "print(i)"
   ]
  },
  {
   "cell_type": "markdown",
   "id": "b90a0bf3",
   "metadata": {},
   "source": [
    "## Inner Loop:\n",
    "    - Loop with a loop"
   ]
  },
  {
   "cell_type": "code",
   "execution_count": 15,
   "id": "17c9ff09",
   "metadata": {},
   "outputs": [
    {
     "name": "stdout",
     "output_type": "stream",
     "text": [
      "11 12 13 \n",
      "21 22 23 \n",
      "31 32 33 \n"
     ]
    }
   ],
   "source": [
    "for i in range(1,4):\n",
    "    for j in range(1,4):\n",
    "        print(\"{}{}\".format(i,j),end=\" \")\n",
    "    print()"
   ]
  },
  {
   "cell_type": "code",
   "execution_count": 21,
   "id": "ec34eedb",
   "metadata": {},
   "outputs": [
    {
     "name": "stdout",
     "output_type": "stream",
     "text": [
      "Enter a range: 4\n",
      "* \n",
      "* * \n",
      "* * * \n",
      "* * * * \n"
     ]
    }
   ],
   "source": [
    "n = int(input(\"Enter a range: \"))\n",
    "for i in range(1,n+1):\n",
    "    for j in range(1,i+1):\n",
    "        print(\"*\",end=\" \")\n",
    "    print()"
   ]
  },
  {
   "cell_type": "code",
   "execution_count": 34,
   "id": "3ec363f1",
   "metadata": {},
   "outputs": [
    {
     "name": "stdout",
     "output_type": "stream",
     "text": [
      "() || ## ** () ** () \n",
      "** || ** () ** () ** \n",
      "$$ || $$ $$ $$ $$ $$ \n",
      "** || ** [] ** && ** \n",
      "&& || && \n"
     ]
    }
   ],
   "source": [
    "a = 1\n",
    "for i in range(1,6):\n",
    "    for j in range(1,8):\n",
    "        if a<=31:\n",
    "            if j == 2:\n",
    "                print(\"||\",end=\" \")\n",
    "            elif i == 3:\n",
    "                print(\"$$\",end=\" \")\n",
    "            elif a%2==0:\n",
    "                print(\"**\",end=\" \")\n",
    "            elif a>=15 and a%5==0:\n",
    "                print(\"[]\",end=\" \")\n",
    "            elif a<15 and a%3==0:\n",
    "                print(\"##\",end=\" \")\n",
    "            elif a<15:\n",
    "                print(\"()\",end=\" \")\n",
    "            else:\n",
    "                print(\"&&\",end=\" \")\n",
    "        else:\n",
    "            break\n",
    "        a += 1\n",
    "    print()"
   ]
  },
  {
   "cell_type": "markdown",
   "id": "f0193ebf",
   "metadata": {},
   "source": [
    "## Functions and its types:\n",
    "    - To perform a specific task\n",
    "    - Two types of Functions\n",
    "        - User Defined => User need to assign some work\n",
    "        - Predefined or Builtin => Already work has been decided[Fixed] => print,range,input,type\n",
    "    - Syntax:\n",
    "        def functionname(arguments):\n",
    "            //stmnts\n",
    "            return return_value"
   ]
  },
  {
   "cell_type": "markdown",
   "id": "a609023a",
   "metadata": {},
   "source": [
    "## User Defined Functions:\n",
    "    - Four types => [Reading,Printing,Logic]\n",
    "    - With return type and with arguments\n",
    "    - With return type and without arguments\n",
    "    - Without return type and with arguments\n",
    "    - Without return type and without arguments"
   ]
  },
  {
   "cell_type": "markdown",
   "id": "e3e706ca",
   "metadata": {},
   "source": [
    "## With return type and with arguments\n",
    "    => Reading -> main\n",
    "    => Printing -> main\n",
    "    => Logic => Function"
   ]
  },
  {
   "cell_type": "code",
   "execution_count": 40,
   "id": "d7e65839",
   "metadata": {},
   "outputs": [
    {
     "name": "stdout",
     "output_type": "stream",
     "text": [
      "Enter First Number: 5\n",
      "Enter Second Number: 2\n",
      "Entered Values are 5 and 2 its addition is: 7\n"
     ]
    }
   ],
   "source": [
    "def addit(t,y):\n",
    "    return t+y\n",
    "\n",
    "a = int(input(\"Enter First Number: \"))\n",
    "b = int(input(\"Enter Second Number: \"))\n",
    "print(\"Entered Values are {} and {} its addition is: {}\".format(a,b,addit(a,b)))"
   ]
  },
  {
   "cell_type": "code",
   "execution_count": 41,
   "id": "b39370a9",
   "metadata": {},
   "outputs": [
    {
     "data": {
      "text/plain": [
       "23"
      ]
     },
     "execution_count": 41,
     "metadata": {},
     "output_type": "execute_result"
    }
   ],
   "source": [
    "addit(20,3)"
   ]
  },
  {
   "cell_type": "markdown",
   "id": "706b1588",
   "metadata": {},
   "source": [
    "## With return type and without arguments\n",
    "    => Reading -> Function\n",
    "    => Printing -> main\n",
    "    => Logic => Function"
   ]
  },
  {
   "cell_type": "code",
   "execution_count": 48,
   "id": "f73610c2",
   "metadata": {},
   "outputs": [
    {
     "name": "stdout",
     "output_type": "stream",
     "text": [
      "Enter start range: 8\n",
      "Enter stop range: 12\n",
      "20AK1A0508\n",
      "20AK1A0509\n",
      "20AK1A0510\n",
      "20AK1A0511\n",
      "20AK1A0512\n",
      "\n"
     ]
    }
   ],
   "source": [
    "def prt():\n",
    "    s = int(input(\"Enter start range: \"))\n",
    "    t = int(input(\"Enter stop range: \"))\n",
    "    d = \"\"\n",
    "    for i in range(s,t+1):\n",
    "        d +=\"20AK1A05{:02}\".format(i)+\"\\n\"\n",
    "    return d\n",
    "\n",
    "print(prt())"
   ]
  },
  {
   "cell_type": "markdown",
   "id": "24221a79",
   "metadata": {},
   "source": [
    "## Without return type and with arguments\n",
    "    => Reading -> main\n",
    "    => Printing -> Function\n",
    "    => Logic => Function"
   ]
  },
  {
   "cell_type": "code",
   "execution_count": 52,
   "id": "c0938cd2",
   "metadata": {},
   "outputs": [
    {
     "name": "stdout",
     "output_type": "stream",
     "text": [
      "Enter First series: 17\n",
      "Enter Start range: 8\n",
      "Enter Second series: 19\n",
      "Enter End range: 11\n",
      "17AK1A0508   19AK1A0508\n",
      "17AK1A0509   19AK1A0509\n",
      "17AK1A0510   19AK1A0510\n",
      "17AK1A0511   19AK1A0511\n"
     ]
    }
   ],
   "source": [
    "def rnpt(ss,r,ds,e):\n",
    "    for i in range(r,e+1):\n",
    "        print(\"{}AK1A05{:02}   {}AK1A05{:02}\".format(ss,i,ds,i))\n",
    "    return\n",
    "\n",
    "s = int(input(\"Enter First series: \"))\n",
    "i = int(input(\"Enter Start range: \"))\n",
    "t = int(input(\"Enter Second series: \"))\n",
    "e = int(input(\"Enter End range: \"))\n",
    "rnpt(s,i,t,e)"
   ]
  },
  {
   "cell_type": "markdown",
   "id": "a76cf928",
   "metadata": {},
   "source": [
    "## Without return type and without arguments\n",
    "    => Reading -> Function\n",
    "    => Printing -> Function\n",
    "    => Logic => Function"
   ]
  },
  {
   "cell_type": "code",
   "execution_count": 56,
   "id": "65bc5f10",
   "metadata": {},
   "outputs": [
    {
     "name": "stdout",
     "output_type": "stream",
     "text": [
      "Enter a range: 5\n",
      "Enter 1 number: 4\n",
      "Enter 2 number: 78\n",
      "Enter 3 number: 56\n",
      "Enter 4 number: 85\n",
      "Enter 5 number: 1\n",
      "Even Numbers are: 4 78 56 \n",
      "Odd Numbers are: 85 1 \n"
     ]
    }
   ],
   "source": [
    "def nmrcheck():\n",
    "    n = int(input(\"Enter a range: \"))\n",
    "    e,o = \"\",\"\"\n",
    "    for i in range(1,n+1):\n",
    "        k = int(input(\"Enter {} number: \".format(i)))\n",
    "        if k%2==0:\n",
    "            e+=str(k)+\" \"\n",
    "        else:\n",
    "            o+=str(k)+\" \"\n",
    "    print(\"Even Numbers are: {}\".format(e))\n",
    "    print(\"Odd Numbers are: {}\".format(o))\n",
    "    return\n",
    "\n",
    "nmrcheck()"
   ]
  },
  {
   "cell_type": "markdown",
   "id": "3cef9c92",
   "metadata": {},
   "source": [
    "## Function arguments:\n",
    "    - Required or Positional arguments\n",
    "    - Default arguments\n",
    "    - Keyword arguments\n",
    "    - Variable Length arguments"
   ]
  },
  {
   "cell_type": "markdown",
   "id": "a7dc76ed",
   "metadata": {},
   "source": [
    "## Required arguments:"
   ]
  },
  {
   "cell_type": "code",
   "execution_count": 58,
   "id": "68d33914",
   "metadata": {},
   "outputs": [
    {
     "name": "stdout",
     "output_type": "stream",
     "text": [
      "Enter Student Name: kiran\n"
     ]
    },
    {
     "ename": "TypeError",
     "evalue": "stdt() missing 1 required positional argument: 'ag'",
     "output_type": "error",
     "traceback": [
      "\u001b[1;31m---------------------------------------------------------------------------\u001b[0m",
      "\u001b[1;31mTypeError\u001b[0m                                 Traceback (most recent call last)",
      "\u001b[1;32m<ipython-input-58-581500e44d4e>\u001b[0m in \u001b[0;36m<module>\u001b[1;34m\u001b[0m\n\u001b[0;32m      4\u001b[0m \u001b[1;33m\u001b[0m\u001b[0m\n\u001b[0;32m      5\u001b[0m \u001b[0msname\u001b[0m \u001b[1;33m=\u001b[0m \u001b[0minput\u001b[0m\u001b[1;33m(\u001b[0m\u001b[1;34m\"Enter Student Name: \"\u001b[0m\u001b[1;33m)\u001b[0m\u001b[1;33m\u001b[0m\u001b[1;33m\u001b[0m\u001b[0m\n\u001b[1;32m----> 6\u001b[1;33m \u001b[0mstdt\u001b[0m\u001b[1;33m(\u001b[0m\u001b[0msname\u001b[0m\u001b[1;33m)\u001b[0m\u001b[1;33m\u001b[0m\u001b[1;33m\u001b[0m\u001b[0m\n\u001b[0m",
      "\u001b[1;31mTypeError\u001b[0m: stdt() missing 1 required positional argument: 'ag'"
     ]
    }
   ],
   "source": [
    "def stdt(sn,ag):\n",
    "    print(\"Entered Name is: {} and age is: {}\".format(sn,ag))\n",
    "    return\n",
    "\n",
    "sname = input(\"Enter Student Name: \")\n",
    "stdt(sname)"
   ]
  },
  {
   "cell_type": "markdown",
   "id": "24445e01",
   "metadata": {},
   "source": [
    "## Default argument"
   ]
  },
  {
   "cell_type": "code",
   "execution_count": 67,
   "id": "f379b260",
   "metadata": {},
   "outputs": [
    {
     "ename": "SyntaxError",
     "evalue": "non-default argument follows default argument (<ipython-input-67-9a4412245ce6>, line 1)",
     "output_type": "error",
     "traceback": [
      "\u001b[1;36m  File \u001b[1;32m\"<ipython-input-67-9a4412245ce6>\"\u001b[1;36m, line \u001b[1;32m1\u001b[0m\n\u001b[1;33m    def empdt(en,eid=20,esal,eage=20):\u001b[0m\n\u001b[1;37m             ^\u001b[0m\n\u001b[1;31mSyntaxError\u001b[0m\u001b[1;31m:\u001b[0m non-default argument follows default argument\n"
     ]
    }
   ],
   "source": [
    "def empdt(en,eid=20,esal,eage=20):\n",
    "    print(\"Entered Emplyee Name is: {} and id is: {} age is: {}\".format(en,eid,eage))\n",
    "    return\n",
    "\n",
    "ename = input(\"Enter Employee Name: \")\n",
    "ed = int(input(\"Enter Employee Id: \"))\n",
    "empdt(ename,ed)"
   ]
  },
  {
   "cell_type": "code",
   "execution_count": null,
   "id": "33f61e6d",
   "metadata": {},
   "outputs": [],
   "source": []
  }
 ],
 "metadata": {
  "kernelspec": {
   "display_name": "Python 3",
   "language": "python",
   "name": "python3"
  },
  "language_info": {
   "codemirror_mode": {
    "name": "ipython",
    "version": 3
   },
   "file_extension": ".py",
   "mimetype": "text/x-python",
   "name": "python",
   "nbconvert_exporter": "python",
   "pygments_lexer": "ipython3",
   "version": "3.7.5"
  }
 },
 "nbformat": 4,
 "nbformat_minor": 5
}
