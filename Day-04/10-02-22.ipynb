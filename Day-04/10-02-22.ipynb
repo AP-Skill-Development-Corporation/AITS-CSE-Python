{
 "cells": [
  {
   "cell_type": "markdown",
   "id": "4de26409",
   "metadata": {},
   "source": [
    "## Strings\n",
    "- collection of Letters or words 0r numbers or any special symbols enclosed between '' or \"\"\n",
    "- by using index position we are accessing elements in a string\n",
    "- index\n",
    "   - syntax\n",
    "     - str_var_name[index position]\n",
    "- we have two types of indexing\n",
    " - positive indexing or forward indexing or left to right\n",
    "   - positive indexing will starts with 0\n",
    " - negative indexing or backward indexing or right to left\n",
    "  - negative indexing will starts with -1\n",
    "- Slicing\n",
    "  - cutting into pieces nothinbut substrings\n",
    "  - syntax\n",
    "    - str_name[start:end:step]"
   ]
  },
  {
   "cell_type": "code",
   "execution_count": 2,
   "id": "3a78ef1c",
   "metadata": {},
   "outputs": [
    {
     "name": "stdout",
     "output_type": "stream",
     "text": [
      "Good afternoon <class 'str'>\n"
     ]
    }
   ],
   "source": [
    "## static way defining string\n",
    "s='Good afternoon'\n",
    "print(s,type(s))"
   ]
  },
  {
   "cell_type": "code",
   "execution_count": 3,
   "id": "ae457146",
   "metadata": {},
   "outputs": [
    {
     "name": "stdout",
     "output_type": "stream",
     "text": [
      "enter a string Annamacharya institute of technology\n",
      "Annamacharya institute of technology <class 'str'>\n"
     ]
    }
   ],
   "source": [
    "#dynamic way of defining string\n",
    "a=input(\"enter a string \")\n",
    "print(a,type(a))"
   ]
  },
  {
   "cell_type": "markdown",
   "id": "af765359",
   "metadata": {},
   "source": [
    "### indexing"
   ]
  },
  {
   "cell_type": "code",
   "execution_count": 5,
   "id": "3bd561a0",
   "metadata": {},
   "outputs": [
    {
     "data": {
      "text/plain": [
       "'Annamacharya institute of technology'"
      ]
     },
     "execution_count": 5,
     "metadata": {},
     "output_type": "execute_result"
    }
   ],
   "source": [
    "a"
   ]
  },
  {
   "cell_type": "code",
   "execution_count": 4,
   "id": "e25afa75",
   "metadata": {},
   "outputs": [
    {
     "data": {
      "text/plain": [
       "'Annam'"
      ]
     },
     "execution_count": 4,
     "metadata": {},
     "output_type": "execute_result"
    }
   ],
   "source": [
    "a[0:5]"
   ]
  },
  {
   "cell_type": "code",
   "execution_count": 6,
   "id": "89f5e7f3",
   "metadata": {},
   "outputs": [
    {
     "data": {
      "text/plain": [
       "'Annamacharya '"
      ]
     },
     "execution_count": 6,
     "metadata": {},
     "output_type": "execute_result"
    }
   ],
   "source": [
    "a[0:13]"
   ]
  },
  {
   "cell_type": "code",
   "execution_count": 7,
   "id": "47ab5fb7",
   "metadata": {},
   "outputs": [
    {
     "data": {
      "text/plain": [
       "'y'"
      ]
     },
     "execution_count": 7,
     "metadata": {},
     "output_type": "execute_result"
    }
   ],
   "source": [
    "a[-1]"
   ]
  },
  {
   "cell_type": "code",
   "execution_count": 8,
   "id": "0bd3509b",
   "metadata": {},
   "outputs": [
    {
     "data": {
      "text/plain": [
       "'nol'"
      ]
     },
     "execution_count": 8,
     "metadata": {},
     "output_type": "execute_result"
    }
   ],
   "source": [
    "a[-6:-3]#negative index"
   ]
  },
  {
   "cell_type": "markdown",
   "id": "64c1ec5b",
   "metadata": {},
   "source": [
    "### Slicing"
   ]
  },
  {
   "cell_type": "code",
   "execution_count": 9,
   "id": "78d370a6",
   "metadata": {},
   "outputs": [
    {
     "data": {
      "text/plain": [
       "'Annamacharya institute of technology'"
      ]
     },
     "execution_count": 9,
     "metadata": {},
     "output_type": "execute_result"
    }
   ],
   "source": [
    "a"
   ]
  },
  {
   "cell_type": "code",
   "execution_count": 10,
   "id": "d183c7cd",
   "metadata": {},
   "outputs": [
    {
     "data": {
      "text/plain": [
       "'nnamac'"
      ]
     },
     "execution_count": 10,
     "metadata": {},
     "output_type": "execute_result"
    }
   ],
   "source": [
    "a[1:7:1]"
   ]
  },
  {
   "cell_type": "code",
   "execution_count": 11,
   "id": "77c96d5e",
   "metadata": {},
   "outputs": [
    {
     "data": {
      "text/plain": [
       "'naa'"
      ]
     },
     "execution_count": 11,
     "metadata": {},
     "output_type": "execute_result"
    }
   ],
   "source": [
    "a[1:7:2]#alternate every 2nd value"
   ]
  },
  {
   "cell_type": "code",
   "execution_count": 12,
   "id": "f678ba0b",
   "metadata": {},
   "outputs": [
    {
     "data": {
      "text/plain": [
       "'Aac'"
      ]
     },
     "execution_count": 12,
     "metadata": {},
     "output_type": "execute_result"
    }
   ],
   "source": [
    "a[0:8:3]#alternate every 3rd value"
   ]
  },
  {
   "cell_type": "code",
   "execution_count": 13,
   "id": "fb5f0b15",
   "metadata": {},
   "outputs": [
    {
     "data": {
      "text/plain": [
       "'Annamacharya institute of technology'"
      ]
     },
     "execution_count": 13,
     "metadata": {},
     "output_type": "execute_result"
    }
   ],
   "source": [
    "a[::]#Total string"
   ]
  },
  {
   "cell_type": "code",
   "execution_count": 14,
   "id": "a88e5b50",
   "metadata": {},
   "outputs": [
    {
     "data": {
      "text/plain": [
       "'ygolonhcet fo etutitsni ayrahcamannA'"
      ]
     },
     "execution_count": 14,
     "metadata": {},
     "output_type": "execute_result"
    }
   ],
   "source": [
    "a[::-1]#reverse of the string"
   ]
  },
  {
   "cell_type": "code",
   "execution_count": 15,
   "id": "5f82cb43",
   "metadata": {},
   "outputs": [
    {
     "name": "stdout",
     "output_type": "stream",
     "text": [
      "['__add__', '__class__', '__contains__', '__delattr__', '__dir__', '__doc__', '__eq__', '__format__', '__ge__', '__getattribute__', '__getitem__', '__getnewargs__', '__gt__', '__hash__', '__init__', '__init_subclass__', '__iter__', '__le__', '__len__', '__lt__', '__mod__', '__mul__', '__ne__', '__new__', '__reduce__', '__reduce_ex__', '__repr__', '__rmod__', '__rmul__', '__setattr__', '__sizeof__', '__str__', '__subclasshook__', 'capitalize', 'casefold', 'center', 'count', 'encode', 'endswith', 'expandtabs', 'find', 'format', 'format_map', 'index', 'isalnum', 'isalpha', 'isascii', 'isdecimal', 'isdigit', 'isidentifier', 'islower', 'isnumeric', 'isprintable', 'isspace', 'istitle', 'isupper', 'join', 'ljust', 'lower', 'lstrip', 'maketrans', 'partition', 'replace', 'rfind', 'rindex', 'rjust', 'rpartition', 'rsplit', 'rstrip', 'split', 'splitlines', 'startswith', 'strip', 'swapcase', 'title', 'translate', 'upper', 'zfill']\n"
     ]
    }
   ],
   "source": [
    "print(dir(str))"
   ]
  },
  {
   "cell_type": "code",
   "execution_count": 16,
   "id": "23a23629",
   "metadata": {},
   "outputs": [
    {
     "data": {
      "text/plain": [
       "'India'"
      ]
     },
     "execution_count": 16,
     "metadata": {},
     "output_type": "execute_result"
    }
   ],
   "source": [
    "s1=\"india\"\n",
    "s1.capitalize()"
   ]
  },
  {
   "cell_type": "code",
   "execution_count": 18,
   "id": "b0882845",
   "metadata": {},
   "outputs": [
    {
     "data": {
      "text/plain": [
       "'india'"
      ]
     },
     "execution_count": 18,
     "metadata": {},
     "output_type": "execute_result"
    }
   ],
   "source": [
    "s1"
   ]
  },
  {
   "cell_type": "code",
   "execution_count": 19,
   "id": "f66e7c54",
   "metadata": {},
   "outputs": [
    {
     "data": {
      "text/plain": [
       "'INDIA'"
      ]
     },
     "execution_count": 19,
     "metadata": {},
     "output_type": "execute_result"
    }
   ],
   "source": [
    "s1.upper()"
   ]
  },
  {
   "cell_type": "code",
   "execution_count": 21,
   "id": "b064cca2",
   "metadata": {},
   "outputs": [
    {
     "data": {
      "text/plain": [
       "'aits college'"
      ]
     },
     "execution_count": 21,
     "metadata": {},
     "output_type": "execute_result"
    }
   ],
   "source": [
    "b='AITS COLLEGE'\n",
    "b.lower()"
   ]
  },
  {
   "cell_type": "code",
   "execution_count": 22,
   "id": "0ac2d516",
   "metadata": {},
   "outputs": [
    {
     "data": {
      "text/plain": [
       "'hello apssdc'"
      ]
     },
     "execution_count": 22,
     "metadata": {},
     "output_type": "execute_result"
    }
   ],
   "source": [
    "c='HELLO apssdc'\n",
    "c.casefold()"
   ]
  },
  {
   "cell_type": "code",
   "execution_count": 24,
   "id": "4f8cc441",
   "metadata": {},
   "outputs": [
    {
     "data": {
      "text/plain": [
       "'ap STATE'"
      ]
     },
     "execution_count": 24,
     "metadata": {},
     "output_type": "execute_result"
    }
   ],
   "source": [
    "d='AP state'\n",
    "d.swapcase()"
   ]
  },
  {
   "cell_type": "code",
   "execution_count": 26,
   "id": "fb9452bf",
   "metadata": {},
   "outputs": [
    {
     "data": {
      "text/plain": [
       "'Python Workshop'"
      ]
     },
     "execution_count": 26,
     "metadata": {},
     "output_type": "execute_result"
    }
   ],
   "source": [
    "e='python workshop'\n",
    "e.title()"
   ]
  },
  {
   "cell_type": "code",
   "execution_count": 27,
   "id": "a6f4ee41",
   "metadata": {},
   "outputs": [
    {
     "data": {
      "text/plain": [
       "1"
      ]
     },
     "execution_count": 27,
     "metadata": {},
     "output_type": "execute_result"
    }
   ],
   "source": [
    "e.find('y')"
   ]
  },
  {
   "cell_type": "code",
   "execution_count": 28,
   "id": "e79a6f26",
   "metadata": {},
   "outputs": [
    {
     "data": {
      "text/plain": [
       "3"
      ]
     },
     "execution_count": 28,
     "metadata": {},
     "output_type": "execute_result"
    }
   ],
   "source": [
    "e.count('o')"
   ]
  },
  {
   "cell_type": "code",
   "execution_count": 29,
   "id": "5a651f74",
   "metadata": {},
   "outputs": [
    {
     "data": {
      "text/plain": [
       "'pytrhon java Django'"
      ]
     },
     "execution_count": 29,
     "metadata": {},
     "output_type": "execute_result"
    }
   ],
   "source": [
    "n='pytrhon ML Django'\n",
    "n.replace('ML','java')"
   ]
  },
  {
   "cell_type": "code",
   "execution_count": 30,
   "id": "f3abe5af",
   "metadata": {},
   "outputs": [
    {
     "name": "stdout",
     "output_type": "stream",
     "text": [
      "True\n",
      "False\n"
     ]
    }
   ],
   "source": [
    "roll='2051A0121'\n",
    "print(roll.startswith('20'))\n",
    "print(roll.startswith('19'))"
   ]
  },
  {
   "cell_type": "code",
   "execution_count": 32,
   "id": "0dcd7bfd",
   "metadata": {},
   "outputs": [
    {
     "name": "stdout",
     "output_type": "stream",
     "text": [
      "True\n",
      "False\n"
     ]
    }
   ],
   "source": [
    "roll='2051A0121'\n",
    "print(roll.endswith('21'))\n",
    "print(roll.endswith('19'))"
   ]
  },
  {
   "cell_type": "code",
   "execution_count": 34,
   "id": "9acb5a46",
   "metadata": {},
   "outputs": [
    {
     "name": "stdout",
     "output_type": "stream",
     "text": [
      "enter your roll num 1851A0321\n",
      "1851A0321 rollnum belongs to seniors\n"
     ]
    }
   ],
   "source": [
    "roll_num=input(\"enter your roll num \")\n",
    "if(roll_num.startswith('21')):\n",
    "    print(roll_num,\"roll num belongs to 1st years\")\n",
    "elif(roll_num.startswith('20')):\n",
    "    print(roll_num,\"rollnum belongs to 2nd years\")\n",
    "else:\n",
    "    print(roll_num,\"rollnum belongs to seniors\")"
   ]
  },
  {
   "cell_type": "markdown",
   "id": "ba98d55d",
   "metadata": {},
   "source": [
    "- Tsak\n",
    "\n",
    "```\n",
    "if mailid endswith student@aits.edu.in---->college mail\n",
    "if mailid endswith mounika@apssdc.in------>belongs to apssdc\n",
    "if mailid endswith mani@gmail.com--------->belongs to personal \n",
    "                                                              ```"
   ]
  },
  {
   "cell_type": "code",
   "execution_count": 35,
   "id": "fc601ac3",
   "metadata": {},
   "outputs": [
    {
     "data": {
      "text/plain": [
       "['welcome', 'to', 'python', 'programming', 'workshop']"
      ]
     },
     "execution_count": 35,
     "metadata": {},
     "output_type": "execute_result"
    }
   ],
   "source": [
    "k='welcome to python programming workshop'\n",
    "k.split()"
   ]
  },
  {
   "cell_type": "code",
   "execution_count": 36,
   "id": "a8bddd13",
   "metadata": {},
   "outputs": [
    {
     "data": {
      "text/plain": [
       "['welc', 'me t', ' pyth', 'n pr', 'gramming w', 'rksh', 'p']"
      ]
     },
     "execution_count": 36,
     "metadata": {},
     "output_type": "execute_result"
    }
   ],
   "source": [
    "k.split('o')"
   ]
  },
  {
   "cell_type": "code",
   "execution_count": 38,
   "id": "7d0db08c",
   "metadata": {},
   "outputs": [
    {
     "name": "stdout",
     "output_type": "stream",
     "text": [
      "welc\n",
      "me t\n",
      " pyth\n",
      "n pr\n",
      "gramming w\n",
      "rksh\n",
      "p\n"
     ]
    }
   ],
   "source": [
    "for i in k.split('o'):\n",
    "    print(i)"
   ]
  },
  {
   "cell_type": "code",
   "execution_count": 39,
   "id": "841bae44",
   "metadata": {},
   "outputs": [],
   "source": [
    "string='''collection of Letters or words 0r numbers or any special symbols enclosed between '' or \"\"\n",
    "by using index position we are accessing elements in a string\n",
    "index\n",
    "syntax\n",
    "str_var_name[index position]\n",
    "we have two types of indexing\n",
    "positive indexing or forward indexing or left to right\n",
    "positive indexing will starts with 0\n",
    "negative indexing or backward indexing or right to left\n",
    "negative indexing will starts with -1\n",
    "Slicing\n",
    "cutting into pieces nothinbut substrings\n",
    "syntax\n",
    "str_name[start:end:step]'''"
   ]
  },
  {
   "cell_type": "code",
   "execution_count": 44,
   "id": "e0faea30",
   "metadata": {},
   "outputs": [
    {
     "data": {
      "text/plain": [
       "['collection of Letters or words 0r numbers or any special symbols enclosed between \\'\\' or \"\"',\n",
       " 'by using index position we are accessing elements in a string',\n",
       " 'index',\n",
       " 'syntax',\n",
       " 'str_var_name[index position]',\n",
       " 'we have two types of indexing',\n",
       " 'positive indexing or forward indexing or left to right',\n",
       " 'positive indexing will starts with 0',\n",
       " 'negative indexing or backward indexing or right to left',\n",
       " 'negative indexing will starts with -1',\n",
       " 'Slicing',\n",
       " 'cutting into pieces nothinbut substrings',\n",
       " 'syntax',\n",
       " 'str_name[start:end:step]']"
      ]
     },
     "execution_count": 44,
     "metadata": {},
     "output_type": "execute_result"
    }
   ],
   "source": [
    "string.splitlines()"
   ]
  },
  {
   "cell_type": "code",
   "execution_count": 45,
   "id": "c52acb15",
   "metadata": {},
   "outputs": [
    {
     "data": {
      "text/plain": [
       "'syntax'"
      ]
     },
     "execution_count": 45,
     "metadata": {},
     "output_type": "execute_result"
    }
   ],
   "source": [
    "string.splitlines()[3]"
   ]
  },
  {
   "cell_type": "code",
   "execution_count": 48,
   "id": "4fbb3ebd",
   "metadata": {
    "collapsed": true
   },
   "outputs": [
    {
     "name": "stdout",
     "output_type": "stream",
     "text": [
      "collection 10\n",
      "of 2\n",
      "Letters 7\n",
      "or 2\n",
      "words 5\n",
      "0r 2\n",
      "numbers 7\n",
      "or 2\n",
      "any 3\n",
      "special 7\n",
      "symbols 7\n",
      "enclosed 8\n",
      "between 7\n",
      "'' 2\n",
      "or 2\n",
      "\"\" 2\n",
      "by 2\n",
      "using 5\n",
      "index 5\n",
      "position 8\n",
      "we 2\n",
      "are 3\n",
      "accessing 9\n",
      "elements 8\n",
      "in 2\n",
      "a 1\n",
      "string 6\n",
      "index 5\n",
      "syntax 6\n",
      "str_var_name[index 18\n",
      "position] 9\n",
      "we 2\n",
      "have 4\n",
      "two 3\n",
      "types 5\n",
      "of 2\n",
      "indexing 8\n",
      "positive 8\n",
      "indexing 8\n",
      "or 2\n",
      "forward 7\n",
      "indexing 8\n",
      "or 2\n",
      "left 4\n",
      "to 2\n",
      "right 5\n",
      "positive 8\n",
      "indexing 8\n",
      "will 4\n",
      "starts 6\n",
      "with 4\n",
      "0 1\n",
      "negative 8\n",
      "indexing 8\n",
      "or 2\n",
      "backward 8\n",
      "indexing 8\n",
      "or 2\n",
      "right 5\n",
      "to 2\n",
      "left 4\n",
      "negative 8\n",
      "indexing 8\n",
      "will 4\n",
      "starts 6\n",
      "with 4\n",
      "-1 2\n",
      "Slicing 7\n",
      "cutting 7\n",
      "into 4\n",
      "pieces 6\n",
      "nothinbut 9\n",
      "substrings 10\n",
      "syntax 6\n",
      "str_name[start:end:step] 24\n"
     ]
    }
   ],
   "source": [
    "for i in string.split():\n",
    "    print(i,len(i))"
   ]
  },
  {
   "cell_type": "code",
   "execution_count": 49,
   "id": "3e6cca85",
   "metadata": {},
   "outputs": [
    {
     "data": {
      "text/plain": [
       "True"
      ]
     },
     "execution_count": 49,
     "metadata": {},
     "output_type": "execute_result"
    }
   ],
   "source": [
    "z='12334'\n",
    "z.isdigit()"
   ]
  },
  {
   "cell_type": "code",
   "execution_count": 50,
   "id": "263f53a3",
   "metadata": {},
   "outputs": [
    {
     "data": {
      "text/plain": [
       "False"
      ]
     },
     "execution_count": 50,
     "metadata": {},
     "output_type": "execute_result"
    }
   ],
   "source": [
    "z1='123@#D'\n",
    "z1.isdigit()"
   ]
  },
  {
   "cell_type": "code",
   "execution_count": 51,
   "id": "99954513",
   "metadata": {},
   "outputs": [
    {
     "data": {
      "text/plain": [
       "False"
      ]
     },
     "execution_count": 51,
     "metadata": {},
     "output_type": "execute_result"
    }
   ],
   "source": [
    "a1='@##ASDDF'\n",
    "a1.isalpha()"
   ]
  },
  {
   "cell_type": "code",
   "execution_count": 53,
   "id": "ce1a52de",
   "metadata": {},
   "outputs": [
    {
     "data": {
      "text/plain": [
       "True"
      ]
     },
     "execution_count": 53,
     "metadata": {},
     "output_type": "execute_result"
    }
   ],
   "source": [
    "'assdf123'.isalnum()"
   ]
  },
  {
   "cell_type": "code",
   "execution_count": 54,
   "id": "b0ac033e",
   "metadata": {},
   "outputs": [
    {
     "name": "stdout",
     "output_type": "stream",
     "text": [
      "5\n",
      "0\n",
      "1\n",
      "0\n",
      "0\n"
     ]
    }
   ],
   "source": [
    "g='length of the string is 50/100 '\n",
    "for i in g:\n",
    "    if i.isdigit():\n",
    "        print(i)"
   ]
  },
  {
   "cell_type": "markdown",
   "id": "b4469d7b",
   "metadata": {},
   "source": [
    "## Data Structures\n",
    "- Data Structures are the way of stroing the data and organizing the data\n",
    "- Data is noythingbut information \n",
    "- Use of datastructures is we can access data and we can workout on data efficiently\n",
    "- Types of Data structures\n",
    "  1. List\n",
    "  2. Tuple\n",
    "  3. Set\n",
    "  4. Dictionary"
   ]
  },
  {
   "cell_type": "markdown",
   "id": "4baf9b1e",
   "metadata": {},
   "source": [
    "## List\n",
    "- collection Heterogenious data\n",
    "- orderd and mutable\n",
    "   - ordered--->indexing\n",
    "   - mutable--->we can modifying the data after once we defined list\n",
    "- indexing and slicing are included\n",
    "- we are representing list by using []\n",
    "- duplicate elements are allowed"
   ]
  },
  {
   "cell_type": "code",
   "execution_count": 55,
   "id": "32ef64b2",
   "metadata": {},
   "outputs": [
    {
     "data": {
      "text/plain": [
       "[123, 'sumati', 9.76, True, 123]"
      ]
     },
     "execution_count": 55,
     "metadata": {},
     "output_type": "execute_result"
    }
   ],
   "source": [
    "L=[123,'sumati',9.76,True,123]\n",
    "L"
   ]
  },
  {
   "cell_type": "code",
   "execution_count": 56,
   "id": "467f8426",
   "metadata": {},
   "outputs": [
    {
     "data": {
      "text/plain": [
       "'sumati'"
      ]
     },
     "execution_count": 56,
     "metadata": {},
     "output_type": "execute_result"
    }
   ],
   "source": [
    "L[1]"
   ]
  },
  {
   "cell_type": "code",
   "execution_count": 57,
   "id": "8fabe08a",
   "metadata": {},
   "outputs": [
    {
     "data": {
      "text/plain": [
       "123"
      ]
     },
     "execution_count": 57,
     "metadata": {},
     "output_type": "execute_result"
    }
   ],
   "source": [
    "L[-1]"
   ]
  },
  {
   "cell_type": "code",
   "execution_count": 58,
   "id": "7fc61312",
   "metadata": {},
   "outputs": [
    {
     "data": {
      "text/plain": [
       "[123, 'sumati', 9.76, True]"
      ]
     },
     "execution_count": 58,
     "metadata": {},
     "output_type": "execute_result"
    }
   ],
   "source": [
    "L[0:4]"
   ]
  },
  {
   "cell_type": "code",
   "execution_count": 59,
   "id": "f07f4894",
   "metadata": {},
   "outputs": [
    {
     "data": {
      "text/plain": [
       "[123, 9.76]"
      ]
     },
     "execution_count": 59,
     "metadata": {},
     "output_type": "execute_result"
    }
   ],
   "source": [
    "L[0:4:2]"
   ]
  },
  {
   "cell_type": "code",
   "execution_count": 61,
   "id": "56fb3673",
   "metadata": {},
   "outputs": [
    {
     "data": {
      "text/plain": [
       "7"
      ]
     },
     "execution_count": 61,
     "metadata": {},
     "output_type": "execute_result"
    }
   ],
   "source": [
    "n=[1,2,3,4,[5,6,[8,9],10,11],12,13]\n",
    "len(n)"
   ]
  },
  {
   "cell_type": "code",
   "execution_count": 65,
   "id": "4eee8888",
   "metadata": {},
   "outputs": [
    {
     "data": {
      "text/plain": [
       "8"
      ]
     },
     "execution_count": 65,
     "metadata": {},
     "output_type": "execute_result"
    }
   ],
   "source": [
    "n[4][2][0]"
   ]
  },
  {
   "cell_type": "code",
   "execution_count": 66,
   "id": "b4db7201",
   "metadata": {},
   "outputs": [],
   "source": [
    "L1=[23,78,1,3,8.4,93]"
   ]
  },
  {
   "cell_type": "code",
   "execution_count": 67,
   "id": "57d5dd7e",
   "metadata": {},
   "outputs": [
    {
     "name": "stdout",
     "output_type": "stream",
     "text": [
      "Type <class 'list'>\n",
      "Length 6\n",
      "maximum value 93\n",
      "minimum value 1\n",
      "sorted list [1, 3, 8.4, 23, 78, 93]\n",
      "sorted in reverse order [93, 78, 23, 8.4, 3, 1]\n"
     ]
    }
   ],
   "source": [
    "##built_in functions\n",
    "print(\"Type\",type(L1))\n",
    "print(\"Length\",len(L1))\n",
    "print(\"maximum value\",max(L1))\n",
    "print(\"minimum value\",min(L1))\n",
    "print(\"sorted list\",sorted(L1))\n",
    "print(\"sorted in reverse order\",sorted(L1,reverse=True))"
   ]
  },
  {
   "cell_type": "code",
   "execution_count": 68,
   "id": "0eccc1d6",
   "metadata": {},
   "outputs": [
    {
     "name": "stdout",
     "output_type": "stream",
     "text": [
      "['__add__', '__class__', '__contains__', '__delattr__', '__delitem__', '__dir__', '__doc__', '__eq__', '__format__', '__ge__', '__getattribute__', '__getitem__', '__gt__', '__hash__', '__iadd__', '__imul__', '__init__', '__init_subclass__', '__iter__', '__le__', '__len__', '__lt__', '__mul__', '__ne__', '__new__', '__reduce__', '__reduce_ex__', '__repr__', '__reversed__', '__rmul__', '__setattr__', '__setitem__', '__sizeof__', '__str__', '__subclasshook__', 'append', 'clear', 'copy', 'count', 'extend', 'index', 'insert', 'pop', 'remove', 'reverse', 'sort']\n"
     ]
    }
   ],
   "source": [
    "print(dir(list))"
   ]
  },
  {
   "cell_type": "code",
   "execution_count": 69,
   "id": "3620db4f",
   "metadata": {},
   "outputs": [
    {
     "data": {
      "text/plain": [
       "[123, 'sumati', 9.76, True, 123]"
      ]
     },
     "execution_count": 69,
     "metadata": {},
     "output_type": "execute_result"
    }
   ],
   "source": [
    "L"
   ]
  },
  {
   "cell_type": "code",
   "execution_count": 71,
   "id": "016735ae",
   "metadata": {},
   "outputs": [
    {
     "name": "stdout",
     "output_type": "stream",
     "text": [
      "[123, 'sumati', 9.76, True, 123, 'AITS', 'AITS']\n"
     ]
    }
   ],
   "source": [
    "L.append(\"AITS\")\n",
    "print(L)"
   ]
  },
  {
   "cell_type": "code",
   "execution_count": 72,
   "id": "f58f09f2",
   "metadata": {},
   "outputs": [
    {
     "data": {
      "text/plain": [
       "[123, 'sumati', 9.76, True, 123, 'AITS', 'AITS', 100]"
      ]
     },
     "execution_count": 72,
     "metadata": {},
     "output_type": "execute_result"
    }
   ],
   "source": [
    "L.append(100)\n",
    "L"
   ]
  },
  {
   "cell_type": "code",
   "execution_count": 73,
   "id": "4b0117f7",
   "metadata": {},
   "outputs": [
    {
     "data": {
      "text/plain": [
       "[123, 'sumati', 9.76, True, 123, 'AITS', 'AITS', 100]"
      ]
     },
     "execution_count": 73,
     "metadata": {},
     "output_type": "execute_result"
    }
   ],
   "source": [
    "k=L.copy()\n",
    "k"
   ]
  },
  {
   "cell_type": "code",
   "execution_count": 74,
   "id": "55232b65",
   "metadata": {},
   "outputs": [
    {
     "data": {
      "text/plain": [
       "100"
      ]
     },
     "execution_count": 74,
     "metadata": {},
     "output_type": "execute_result"
    }
   ],
   "source": [
    "k.pop()"
   ]
  },
  {
   "cell_type": "code",
   "execution_count": 75,
   "id": "a4117361",
   "metadata": {},
   "outputs": [
    {
     "data": {
      "text/plain": [
       "[123, 'sumati', 9.76, True, 123, 'AITS', 'AITS']"
      ]
     },
     "execution_count": 75,
     "metadata": {},
     "output_type": "execute_result"
    }
   ],
   "source": [
    "k"
   ]
  },
  {
   "cell_type": "code",
   "execution_count": 76,
   "id": "b3977efe",
   "metadata": {},
   "outputs": [
    {
     "data": {
      "text/plain": [
       "[123, 'sumati', 9.76, True, 123, 'AITS']"
      ]
     },
     "execution_count": 76,
     "metadata": {},
     "output_type": "execute_result"
    }
   ],
   "source": [
    "k.remove('AITS')\n",
    "k"
   ]
  },
  {
   "cell_type": "code",
   "execution_count": 77,
   "id": "32360f42",
   "metadata": {},
   "outputs": [
    {
     "data": {
      "text/plain": [
       "['apssdc', 123, 'sumati', 9.76, True, 123, 'AITS']"
      ]
     },
     "execution_count": 77,
     "metadata": {},
     "output_type": "execute_result"
    }
   ],
   "source": [
    "k.insert(0,'apssdc')\n",
    "k"
   ]
  },
  {
   "cell_type": "code",
   "execution_count": 79,
   "id": "e31b5afe",
   "metadata": {},
   "outputs": [
    {
     "data": {
      "text/plain": [
       "[1, 2, 3, 4, 5, 6, 7, 8, 9]"
      ]
     },
     "execution_count": 79,
     "metadata": {},
     "output_type": "execute_result"
    }
   ],
   "source": [
    "a=[1,2,3,4]\n",
    "b=[5,6,7,8,9]\n",
    "a.extend(b)\n",
    "a"
   ]
  },
  {
   "cell_type": "code",
   "execution_count": 80,
   "id": "e2432afb",
   "metadata": {},
   "outputs": [
    {
     "data": {
      "text/plain": [
       "[5, 6, 7, 8, 9, 1, 2, 3, 4, 5, 6, 7, 8, 9]"
      ]
     },
     "execution_count": 80,
     "metadata": {},
     "output_type": "execute_result"
    }
   ],
   "source": [
    "b.extend(a)\n",
    "b"
   ]
  },
  {
   "cell_type": "code",
   "execution_count": 81,
   "id": "78451f58",
   "metadata": {},
   "outputs": [
    {
     "data": {
      "text/plain": [
       "2"
      ]
     },
     "execution_count": 81,
     "metadata": {},
     "output_type": "execute_result"
    }
   ],
   "source": [
    "b.count(5)"
   ]
  },
  {
   "cell_type": "code",
   "execution_count": 84,
   "id": "2090f390",
   "metadata": {},
   "outputs": [],
   "source": [
    "b.reverse()"
   ]
  },
  {
   "cell_type": "code",
   "execution_count": 85,
   "id": "00e64a79",
   "metadata": {},
   "outputs": [
    {
     "data": {
      "text/plain": [
       "[9, 8, 7, 6, 5, 4, 3, 2, 1, 9, 8, 7, 6, 5]"
      ]
     },
     "execution_count": 85,
     "metadata": {},
     "output_type": "execute_result"
    }
   ],
   "source": [
    "b"
   ]
  },
  {
   "cell_type": "code",
   "execution_count": 86,
   "id": "a4585959",
   "metadata": {},
   "outputs": [],
   "source": [
    "h=[87,12,1,0,5.7]\n",
    "h.sort()"
   ]
  },
  {
   "cell_type": "code",
   "execution_count": 87,
   "id": "042b5938",
   "metadata": {},
   "outputs": [
    {
     "data": {
      "text/plain": [
       "[0, 1, 5.7, 12, 87]"
      ]
     },
     "execution_count": 87,
     "metadata": {},
     "output_type": "execute_result"
    }
   ],
   "source": [
    "h"
   ]
  },
  {
   "cell_type": "code",
   "execution_count": 88,
   "id": "3cc97068",
   "metadata": {},
   "outputs": [
    {
     "data": {
      "text/plain": [
       "2"
      ]
     },
     "execution_count": 88,
     "metadata": {},
     "output_type": "execute_result"
    }
   ],
   "source": [
    "h.index(5.7)"
   ]
  },
  {
   "cell_type": "code",
   "execution_count": 89,
   "id": "dccc91d9",
   "metadata": {},
   "outputs": [],
   "source": [
    "h.clear()"
   ]
  },
  {
   "cell_type": "code",
   "execution_count": 90,
   "id": "9c9fa2dd",
   "metadata": {},
   "outputs": [
    {
     "data": {
      "text/plain": [
       "[]"
      ]
     },
     "execution_count": 90,
     "metadata": {},
     "output_type": "execute_result"
    }
   ],
   "source": [
    "h"
   ]
  },
  {
   "cell_type": "code",
   "execution_count": 91,
   "id": "6ca4aa09",
   "metadata": {},
   "outputs": [
    {
     "data": {
      "text/plain": [
       "[123, 'sumati', 9.76, True, 123, 'AITS', 'AITS', 100]"
      ]
     },
     "execution_count": 91,
     "metadata": {},
     "output_type": "execute_result"
    }
   ],
   "source": [
    "L"
   ]
  },
  {
   "cell_type": "code",
   "execution_count": 92,
   "id": "9c9378d4",
   "metadata": {},
   "outputs": [
    {
     "name": "stdout",
     "output_type": "stream",
     "text": [
      "123\n",
      "sumati\n",
      "9.76\n",
      "True\n",
      "123\n",
      "AITS\n",
      "AITS\n",
      "100\n"
     ]
    }
   ],
   "source": [
    "for j in L:\n",
    "    print(j)"
   ]
  },
  {
   "cell_type": "code",
   "execution_count": 93,
   "id": "e3efc6d8",
   "metadata": {},
   "outputs": [
    {
     "data": {
      "text/plain": [
       "[45, 4, 6, 7]"
      ]
     },
     "execution_count": 93,
     "metadata": {},
     "output_type": "execute_result"
    }
   ],
   "source": [
    "#input-->[1,23,45,1,23,4,6,7]\n",
    "#output-->[45,23,4,6,7]\n",
    "g=[1,23,45,1,23,4,6,7]\n",
    "g1=[]\n",
    "for i in g:\n",
    "    if g.count(i)==1:\n",
    "        g1.append(i)\n",
    "g1"
   ]
  },
  {
   "cell_type": "code",
   "execution_count": null,
   "id": "f81bc81d",
   "metadata": {},
   "outputs": [],
   "source": [
    "#Task\n",
    "L=[123,'AP',7.8,'AITS',67,9.0,True,False]\n"
   ]
  }
 ],
 "metadata": {
  "kernelspec": {
   "display_name": "Python 3",
   "language": "python",
   "name": "python3"
  },
  "language_info": {
   "codemirror_mode": {
    "name": "ipython",
    "version": 3
   },
   "file_extension": ".py",
   "mimetype": "text/x-python",
   "name": "python",
   "nbconvert_exporter": "python",
   "pygments_lexer": "ipython3",
   "version": "3.8.8"
  }
 },
 "nbformat": 4,
 "nbformat_minor": 5
}
