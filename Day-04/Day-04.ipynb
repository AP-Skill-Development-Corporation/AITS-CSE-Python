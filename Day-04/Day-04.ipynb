{
 "cells": [
  {
   "cell_type": "markdown",
   "id": "1c9eef28",
   "metadata": {},
   "source": [
    "## Good Afternoon to All.."
   ]
  },
  {
   "cell_type": "markdown",
   "id": "fc40cd5d",
   "metadata": {},
   "source": [
    "## Keyword Argument:"
   ]
  },
  {
   "cell_type": "code",
   "execution_count": 2,
   "id": "5e4ddefb",
   "metadata": {},
   "outputs": [
    {
     "name": "stdout",
     "output_type": "stream",
     "text": [
      "Enter a name: tarun\n",
      "Enter your age: 23\n"
     ]
    },
    {
     "ename": "TypeError",
     "evalue": "ft() got an unexpected keyword argument 'n'",
     "output_type": "error",
     "traceback": [
      "\u001b[1;31m---------------------------------------------------------------------------\u001b[0m",
      "\u001b[1;31mTypeError\u001b[0m                                 Traceback (most recent call last)",
      "\u001b[1;32m<ipython-input-2-98325adca045>\u001b[0m in \u001b[0;36m<module>\u001b[1;34m\u001b[0m\n\u001b[0;32m      5\u001b[0m \u001b[0mnam\u001b[0m \u001b[1;33m=\u001b[0m \u001b[0minput\u001b[0m\u001b[1;33m(\u001b[0m\u001b[1;34m\"Enter a name: \"\u001b[0m\u001b[1;33m)\u001b[0m\u001b[1;33m\u001b[0m\u001b[1;33m\u001b[0m\u001b[0m\n\u001b[0;32m      6\u001b[0m \u001b[0mag\u001b[0m \u001b[1;33m=\u001b[0m \u001b[0mint\u001b[0m\u001b[1;33m(\u001b[0m\u001b[0minput\u001b[0m\u001b[1;33m(\u001b[0m\u001b[1;34m\"Enter your age: \"\u001b[0m\u001b[1;33m)\u001b[0m\u001b[1;33m)\u001b[0m\u001b[1;33m\u001b[0m\u001b[1;33m\u001b[0m\u001b[0m\n\u001b[1;32m----> 7\u001b[1;33m \u001b[0mft\u001b[0m\u001b[1;33m(\u001b[0m\u001b[0mn\u001b[0m\u001b[1;33m=\u001b[0m\u001b[0mnam\u001b[0m\u001b[1;33m,\u001b[0m\u001b[0ma\u001b[0m\u001b[1;33m=\u001b[0m\u001b[0mag\u001b[0m\u001b[1;33m)\u001b[0m\u001b[1;33m\u001b[0m\u001b[1;33m\u001b[0m\u001b[0m\n\u001b[0m",
      "\u001b[1;31mTypeError\u001b[0m: ft() got an unexpected keyword argument 'n'"
     ]
    }
   ],
   "source": [
    "def ft(a,k):\n",
    "    print(\"Entered name is: {} and your age is: {}\".format(k,a))\n",
    "    return\n",
    "\n",
    "nam = input(\"Enter a name: \")\n",
    "ag = int(input(\"Enter your age: \"))\n",
    "ft(n=nam,a=ag)"
   ]
  },
  {
   "cell_type": "code",
   "execution_count": 4,
   "id": "c81868d8",
   "metadata": {},
   "outputs": [
    {
     "name": "stdout",
     "output_type": "stream",
     "text": [
      "{'ag': 23, 'na': 'suresh', 'sal': 45000} <class 'dict'>\n"
     ]
    }
   ],
   "source": [
    "def gy(**h):\n",
    "    print(h,type(h))\n",
    "    return\n",
    "\n",
    "gy(ag=23,na=\"suresh\",sal=45000)"
   ]
  },
  {
   "cell_type": "markdown",
   "id": "82a8aa7a",
   "metadata": {},
   "source": [
    "## Variable Length Argument"
   ]
  },
  {
   "cell_type": "code",
   "execution_count": 7,
   "id": "36a409a5",
   "metadata": {},
   "outputs": [
    {
     "name": "stdout",
     "output_type": "stream",
     "text": [
      "12 <class 'int'>\n",
      "(45, 'ramesh', 120.255415, 450) <class 'tuple'>\n"
     ]
    }
   ],
   "source": [
    "def gwr(a,*u):\n",
    "    print(a,type(a))\n",
    "    print(u,type(u))\n",
    "    return\n",
    "\n",
    "gwr(12,45,'ramesh',120.255415,450)"
   ]
  },
  {
   "cell_type": "code",
   "execution_count": 8,
   "id": "b8e973f7",
   "metadata": {},
   "outputs": [
    {
     "name": "stdout",
     "output_type": "stream",
     "text": [
      "tarun <class 'str'>\n",
      "(45, 78, 12.0021, 'sirisha') <class 'tuple'>\n",
      "{'name': 'kalyan', 'sal': 4500, 'age': 45} <class 'dict'>\n"
     ]
    }
   ],
   "source": [
    "def nte(d,*h,**q):\n",
    "    print(d,type(d))\n",
    "    print(h,type(h))\n",
    "    print(q,type(q))\n",
    "    return\n",
    "\n",
    "nte('tarun',45,78,12.0021,'sirisha',name=\"kalyan\",sal=4500,age=45)"
   ]
  },
  {
   "cell_type": "code",
   "execution_count": 10,
   "id": "addb4add",
   "metadata": {},
   "outputs": [
    {
     "name": "stdout",
     "output_type": "stream",
     "text": [
      "78 <class 'int'>\n",
      "('yamini', 'tarun', 45, 78, 12.0021, 'sirisha') <class 'tuple'>\n",
      "{'name': 'kalyan', 'sal': 4500, 'age': 45} <class 'dict'>\n"
     ]
    }
   ],
   "source": [
    "def nte(d,*h,**q):\n",
    "    print(d,type(d))\n",
    "    print(h,type(h))\n",
    "    print(q,type(q))\n",
    "    return\n",
    "\n",
    "nte(78,'yamini','tarun',45,78,12.0021,'sirisha',name=\"kalyan\",sal=4500,age=45)"
   ]
  },
  {
   "cell_type": "code",
   "execution_count": null,
   "id": "012a48cf",
   "metadata": {},
   "outputs": [],
   "source": []
  }
 ],
 "metadata": {
  "kernelspec": {
   "display_name": "Python 3",
   "language": "python",
   "name": "python3"
  },
  "language_info": {
   "codemirror_mode": {
    "name": "ipython",
    "version": 3
   },
   "file_extension": ".py",
   "mimetype": "text/x-python",
   "name": "python",
   "nbconvert_exporter": "python",
   "pygments_lexer": "ipython3",
   "version": "3.7.5"
  }
 },
 "nbformat": 4,
 "nbformat_minor": 5
}
