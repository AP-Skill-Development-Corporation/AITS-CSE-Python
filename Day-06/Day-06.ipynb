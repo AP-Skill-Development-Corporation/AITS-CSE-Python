{
 "cells": [
  {
   "cell_type": "markdown",
   "id": "b17496e0",
   "metadata": {},
   "source": [
    "## Comprehensions:\n",
    "    - To reduce the lines of code\n",
    "    - []\n",
    "    - ()\n",
    "    - {}\n",
    "    - {'k':'v'}"
   ]
  },
  {
   "cell_type": "code",
   "execution_count": 2,
   "id": "7afd8886",
   "metadata": {},
   "outputs": [
    {
     "name": "stdout",
     "output_type": "stream",
     "text": [
      "45\n",
      "78\n",
      "902\n",
      "78\n"
     ]
    }
   ],
   "source": [
    "m = ['45','78','902','78']\n",
    "for j in m:\n",
    "    print(int(j))"
   ]
  },
  {
   "cell_type": "code",
   "execution_count": 4,
   "id": "2289cfbb",
   "metadata": {},
   "outputs": [
    {
     "name": "stdout",
     "output_type": "stream",
     "text": [
      "[45, 78, 902, 78]\n"
     ]
    }
   ],
   "source": [
    "k = [int(j) for j in m]\n",
    "print(k)"
   ]
  },
  {
   "cell_type": "code",
   "execution_count": 5,
   "id": "9c8927ff",
   "metadata": {},
   "outputs": [
    {
     "name": "stdout",
     "output_type": "stream",
     "text": [
      "45 78 20 56\n",
      "[45, 78, 20, 56]\n"
     ]
    }
   ],
   "source": [
    "k = [int(j) for j in input().split()]\n",
    "print(k)"
   ]
  },
  {
   "cell_type": "code",
   "execution_count": 6,
   "id": "4b993d15",
   "metadata": {},
   "outputs": [
    {
     "name": "stdout",
     "output_type": "stream",
     "text": [
      "45 60 89 23\n",
      "[60]\n"
     ]
    }
   ],
   "source": [
    "k = [int(j) for j in input().split() if int(j)%2==0]\n",
    "print(k)"
   ]
  },
  {
   "cell_type": "code",
   "execution_count": 7,
   "id": "81c13a91",
   "metadata": {},
   "outputs": [
    {
     "name": "stdout",
     "output_type": "stream",
     "text": [
      "12 778 56 6 45\n",
      "[None, None, None, None, None] <class 'list'>\n",
      "[12, 778, 56, 6]\n",
      "[45]\n"
     ]
    }
   ],
   "source": [
    "elist,olist = [],[]\n",
    "n = [elist.append(int(i)) if int(i)%2==0 else olist.append(int(i)) for i in input().split()]\n",
    "print(n,type(n))\n",
    "print(elist)\n",
    "print(olist)"
   ]
  },
  {
   "cell_type": "code",
   "execution_count": 31,
   "id": "5de6006b",
   "metadata": {},
   "outputs": [
    {
     "name": "stdout",
     "output_type": "stream",
     "text": [
      "45 78 664\n",
      "<generator object <genexpr> at 0x0000018081069548> <class 'generator'>\n",
      "45\n"
     ]
    }
   ],
   "source": [
    "g = (int(h) for h in input().split())\n",
    "print(g,type(g))\n",
    "print(next(g))"
   ]
  },
  {
   "cell_type": "code",
   "execution_count": 11,
   "id": "eba7bd60",
   "metadata": {},
   "outputs": [
    {
     "name": "stdout",
     "output_type": "stream",
     "text": [
      "4 8 7 8 9 45\n",
      "[4, 7, 8, 9, 45] <class 'list'>\n"
     ]
    }
   ],
   "source": [
    "v = list({int(j) for j in input().split()})\n",
    "print(v,type(v))"
   ]
  },
  {
   "cell_type": "code",
   "execution_count": 13,
   "id": "9ce8062d",
   "metadata": {},
   "outputs": [
    {
     "name": "stdout",
     "output_type": "stream",
     "text": [
      "1 5 8\n",
      "{'1': 1, '5': 25, '8': 64} <class 'dict'>\n"
     ]
    }
   ],
   "source": [
    "m = {i:int(i)**2 for i in input().split()}\n",
    "print(m,type(m))"
   ]
  },
  {
   "cell_type": "markdown",
   "id": "b5bdc60b",
   "metadata": {},
   "source": [
    "## Iterators:\n",
    "    - list,string,set,tuple and dictionary\n",
    "    - iter(data structure)\n",
    "    - next(iterationavariablename)"
   ]
  },
  {
   "cell_type": "code",
   "execution_count": 21,
   "id": "c7aae1e6",
   "metadata": {},
   "outputs": [
    {
     "name": "stdout",
     "output_type": "stream",
     "text": [
      "45 78 9\n",
      "<list_iterator object at 0x0000018080FAC8C8>\n",
      "45\n",
      "78\n"
     ]
    }
   ],
   "source": [
    "k = [int(i) for i in input().split()]\n",
    "g = iter(k)\n",
    "print(g)\n",
    "print(next(g))\n",
    "print(next(g))"
   ]
  },
  {
   "cell_type": "code",
   "execution_count": 20,
   "id": "85ac2351",
   "metadata": {},
   "outputs": [
    {
     "ename": "StopIteration",
     "evalue": "",
     "output_type": "error",
     "traceback": [
      "\u001b[1;31m---------------------------------------------------------------------------\u001b[0m",
      "\u001b[1;31mStopIteration\u001b[0m                             Traceback (most recent call last)",
      "\u001b[1;32m<ipython-input-20-1dfb29d6357e>\u001b[0m in \u001b[0;36m<module>\u001b[1;34m\u001b[0m\n\u001b[1;32m----> 1\u001b[1;33m \u001b[0mprint\u001b[0m\u001b[1;33m(\u001b[0m\u001b[0mnext\u001b[0m\u001b[1;33m(\u001b[0m\u001b[0mg\u001b[0m\u001b[1;33m)\u001b[0m\u001b[1;33m)\u001b[0m\u001b[1;33m\u001b[0m\u001b[1;33m\u001b[0m\u001b[0m\n\u001b[0m",
      "\u001b[1;31mStopIteration\u001b[0m: "
     ]
    }
   ],
   "source": [
    "print(next(g))"
   ]
  },
  {
   "cell_type": "markdown",
   "id": "67129529",
   "metadata": {},
   "source": [
    "## Generators:\n",
    "    - return => data structure\n",
    "    - yield => flow control"
   ]
  },
  {
   "cell_type": "code",
   "execution_count": 29,
   "id": "872a6cfa",
   "metadata": {},
   "outputs": [
    {
     "name": "stdout",
     "output_type": "stream",
     "text": [
      "First Iteration\n",
      "Second Iteration\n"
     ]
    },
    {
     "ename": "StopIteration",
     "evalue": "",
     "output_type": "error",
     "traceback": [
      "\u001b[1;31m---------------------------------------------------------------------------\u001b[0m",
      "\u001b[1;31mStopIteration\u001b[0m                             Traceback (most recent call last)",
      "\u001b[1;32m<ipython-input-29-88bbf8082d06>\u001b[0m in \u001b[0;36m<module>\u001b[1;34m\u001b[0m\n\u001b[0;32m      6\u001b[0m \u001b[0mprint\u001b[0m\u001b[1;33m(\u001b[0m\u001b[0mnext\u001b[0m\u001b[1;33m(\u001b[0m\u001b[0mg\u001b[0m\u001b[1;33m)\u001b[0m\u001b[1;33m)\u001b[0m\u001b[1;33m\u001b[0m\u001b[1;33m\u001b[0m\u001b[0m\n\u001b[0;32m      7\u001b[0m \u001b[0mprint\u001b[0m\u001b[1;33m(\u001b[0m\u001b[0mnext\u001b[0m\u001b[1;33m(\u001b[0m\u001b[0mg\u001b[0m\u001b[1;33m)\u001b[0m\u001b[1;33m)\u001b[0m\u001b[1;33m\u001b[0m\u001b[1;33m\u001b[0m\u001b[0m\n\u001b[1;32m----> 8\u001b[1;33m \u001b[0mprint\u001b[0m\u001b[1;33m(\u001b[0m\u001b[0mnext\u001b[0m\u001b[1;33m(\u001b[0m\u001b[0mg\u001b[0m\u001b[1;33m)\u001b[0m\u001b[1;33m)\u001b[0m\u001b[1;33m\u001b[0m\u001b[1;33m\u001b[0m\u001b[0m\n\u001b[0m",
      "\u001b[1;31mStopIteration\u001b[0m: "
     ]
    }
   ],
   "source": [
    "def prnt():\n",
    "    yield \"First Iteration\"\n",
    "    yield \"Second Iteration\"\n",
    "\n",
    "g = prnt()\n",
    "print(next(g))\n",
    "print(next(g))\n",
    "print(next(g))"
   ]
  },
  {
   "cell_type": "markdown",
   "id": "f154938b",
   "metadata": {},
   "source": [
    "## Functional Programming:\n",
    "    - map -> typecast,function\n",
    "    - filter -> True\n",
    "    - reduce -> final output\n",
    "    - lambda -> Anonymous Function"
   ]
  },
  {
   "cell_type": "markdown",
   "id": "073653b4",
   "metadata": {},
   "source": [
    "## Map:\n",
    "    - To convert the data type of an element for an iterator\n",
    "    - Based on funtion it will returns a value\n",
    "    Syntax:\n",
    "        map(typecasting,iterator) or\n",
    "        map(functionname,iterator)"
   ]
  },
  {
   "cell_type": "code",
   "execution_count": 33,
   "id": "9c3db627",
   "metadata": {},
   "outputs": [
    {
     "name": "stdout",
     "output_type": "stream",
     "text": [
      "45 78 963\n",
      "[45, 78, 963]\n"
     ]
    }
   ],
   "source": [
    "n = list(map(int,input().split()))\n",
    "print(n)"
   ]
  },
  {
   "cell_type": "code",
   "execution_count": 35,
   "id": "1dc5badf",
   "metadata": {},
   "outputs": [
    {
     "name": "stdout",
     "output_type": "stream",
     "text": [
      "12 45 89\n",
      "[None, 45, 89]\n"
     ]
    }
   ],
   "source": [
    "def en(j):\n",
    "    if j>20:\n",
    "        return j\n",
    "\n",
    "h = list(map(int,input().split()))\n",
    "g = list(map(en,h))\n",
    "print(g)"
   ]
  },
  {
   "cell_type": "markdown",
   "id": "04cc43d9",
   "metadata": {},
   "source": [
    "## Lambda:\n",
    "    - Syntax:\n",
    "        lambda arguments:expression"
   ]
  },
  {
   "cell_type": "code",
   "execution_count": 36,
   "id": "18d8766a",
   "metadata": {},
   "outputs": [
    {
     "name": "stdout",
     "output_type": "stream",
     "text": [
      "4\n"
     ]
    }
   ],
   "source": [
    "g = lambda p:p*p\n",
    "print(g(2))"
   ]
  },
  {
   "cell_type": "code",
   "execution_count": 38,
   "id": "b4e57ebd",
   "metadata": {},
   "outputs": [
    {
     "ename": "TypeError",
     "evalue": "'>' not supported between instances of 'list' and 'int'",
     "output_type": "error",
     "traceback": [
      "\u001b[1;31m---------------------------------------------------------------------------\u001b[0m",
      "\u001b[1;31mTypeError\u001b[0m                                 Traceback (most recent call last)",
      "\u001b[1;32m<ipython-input-38-67c74c53de9e>\u001b[0m in \u001b[0;36m<module>\u001b[1;34m\u001b[0m\n\u001b[0;32m      1\u001b[0m \u001b[0mh\u001b[0m \u001b[1;33m=\u001b[0m \u001b[1;32mlambda\u001b[0m \u001b[0mj\u001b[0m\u001b[1;33m:\u001b[0m \u001b[0mj\u001b[0m\u001b[1;33m>\u001b[0m\u001b[1;36m40\u001b[0m\u001b[1;33m\u001b[0m\u001b[1;33m\u001b[0m\u001b[0m\n\u001b[1;32m----> 2\u001b[1;33m \u001b[0mprint\u001b[0m\u001b[1;33m(\u001b[0m\u001b[0mh\u001b[0m\u001b[1;33m(\u001b[0m\u001b[1;33m[\u001b[0m\u001b[1;36m12\u001b[0m\u001b[1;33m,\u001b[0m\u001b[1;36m754\u001b[0m\u001b[1;33m]\u001b[0m\u001b[1;33m)\u001b[0m\u001b[1;33m)\u001b[0m\u001b[1;33m\u001b[0m\u001b[1;33m\u001b[0m\u001b[0m\n\u001b[0m",
      "\u001b[1;32m<ipython-input-38-67c74c53de9e>\u001b[0m in \u001b[0;36m<lambda>\u001b[1;34m(j)\u001b[0m\n\u001b[1;32m----> 1\u001b[1;33m \u001b[0mh\u001b[0m \u001b[1;33m=\u001b[0m \u001b[1;32mlambda\u001b[0m \u001b[0mj\u001b[0m\u001b[1;33m:\u001b[0m \u001b[0mj\u001b[0m\u001b[1;33m>\u001b[0m\u001b[1;36m40\u001b[0m\u001b[1;33m\u001b[0m\u001b[1;33m\u001b[0m\u001b[0m\n\u001b[0m\u001b[0;32m      2\u001b[0m \u001b[0mprint\u001b[0m\u001b[1;33m(\u001b[0m\u001b[0mh\u001b[0m\u001b[1;33m(\u001b[0m\u001b[1;33m[\u001b[0m\u001b[1;36m12\u001b[0m\u001b[1;33m,\u001b[0m\u001b[1;36m754\u001b[0m\u001b[1;33m]\u001b[0m\u001b[1;33m)\u001b[0m\u001b[1;33m)\u001b[0m\u001b[1;33m\u001b[0m\u001b[1;33m\u001b[0m\u001b[0m\n",
      "\u001b[1;31mTypeError\u001b[0m: '>' not supported between instances of 'list' and 'int'"
     ]
    }
   ],
   "source": [
    "h = lambda j: j>40\n",
    "print(h([12,754]))"
   ]
  },
  {
   "cell_type": "code",
   "execution_count": 41,
   "id": "656ec033",
   "metadata": {},
   "outputs": [
    {
     "name": "stdout",
     "output_type": "stream",
     "text": [
      "True\n"
     ]
    }
   ],
   "source": [
    "h = lambda j: j>40\n",
    "print(h(754))"
   ]
  },
  {
   "cell_type": "code",
   "execution_count": 39,
   "id": "c5507a30",
   "metadata": {},
   "outputs": [
    {
     "name": "stdout",
     "output_type": "stream",
     "text": [
      "12 48 96 78\n",
      "[False, True, True, True]\n"
     ]
    }
   ],
   "source": [
    "d = list(map(lambda h:h>45,map(int,input().split())))\n",
    "print(d)"
   ]
  },
  {
   "cell_type": "code",
   "execution_count": 40,
   "id": "b1bf36a6",
   "metadata": {},
   "outputs": [
    {
     "name": "stdout",
     "output_type": "stream",
     "text": [
      "45 78 20 56\n",
      "[None, None, None, None] <class 'list'>\n",
      "[78, 20, 56]\n",
      "[45]\n"
     ]
    }
   ],
   "source": [
    "elist,olist =[],[]\n",
    "c = list(map(lambda i:elist.append(i) if i%2==0 else olist.append(i),map(int,input().split())))\n",
    "print(c,type(c))\n",
    "print(elist)\n",
    "print(olist)"
   ]
  },
  {
   "cell_type": "markdown",
   "id": "842d7a35",
   "metadata": {},
   "source": [
    "## Filter:\n",
    "    Syntax:\n",
    "        filter(functionname,iterator)"
   ]
  },
  {
   "cell_type": "code",
   "execution_count": 46,
   "id": "62f1420b",
   "metadata": {},
   "outputs": [
    {
     "name": "stdout",
     "output_type": "stream",
     "text": [
      "102 15 89 785\n",
      "[102, 15, 89, 785]\n",
      "[102, 89, 785]\n",
      "[102, 785]\n"
     ]
    }
   ],
   "source": [
    "h = list(map(int,input().split()))\n",
    "print(h)\n",
    "b = list(filter(lambda v:v>50,h))\n",
    "print(b)\n",
    "c = list(filter(lambda d:d>100,b))\n",
    "print(c)"
   ]
  },
  {
   "cell_type": "code",
   "execution_count": 47,
   "id": "18708a96",
   "metadata": {},
   "outputs": [
    {
     "name": "stdout",
     "output_type": "stream",
     "text": [
      "12 859 78 456 200\n",
      "[859, 456, 200]\n"
     ]
    }
   ],
   "source": [
    "s = list(filter(lambda d:d>150,filter(lambda f:f>50,map(int,input().split()))))\n",
    "print(s)"
   ]
  },
  {
   "cell_type": "markdown",
   "id": "81e1f8bd",
   "metadata": {},
   "source": [
    "## Reduce:\n",
    "    - It prints final output\n",
    "    Syntax:\n",
    "     reduce(function,iterator)"
   ]
  },
  {
   "cell_type": "code",
   "execution_count": 48,
   "id": "08250b57",
   "metadata": {},
   "outputs": [],
   "source": [
    "from functools import reduce"
   ]
  },
  {
   "cell_type": "code",
   "execution_count": 50,
   "id": "415937f2",
   "metadata": {},
   "outputs": [
    {
     "name": "stdout",
     "output_type": "stream",
     "text": [
      "45 78 95 2 3\n",
      "80\n"
     ]
    }
   ],
   "source": [
    "g = reduce(lambda n,m:n+m,filter(lambda f:f%2==0,map(int,input().split())))\n",
    "print(g)"
   ]
  },
  {
   "cell_type": "markdown",
   "id": "3e6a78a3",
   "metadata": {},
   "source": [
    "## FILES:\n",
    "    - To store a data permanently\n",
    "    - read => r\n",
    "    - write => w\n",
    "    - append => a\n",
    "    - execute => x"
   ]
  },
  {
   "cell_type": "code",
   "execution_count": 52,
   "id": "fd84ab98",
   "metadata": {},
   "outputs": [
    {
     "name": "stdout",
     "output_type": "stream",
     "text": [
      "Enter Some text: Hi Everyone\n"
     ]
    }
   ],
   "source": [
    "with open('sample.text','w') as fh:\n",
    "    k = input(\"Enter Some text: \")\n",
    "    fh.write(k)"
   ]
  },
  {
   "cell_type": "code",
   "execution_count": 55,
   "id": "d9896a92",
   "metadata": {},
   "outputs": [
    {
     "name": "stdout",
     "output_type": "stream",
     "text": [
      "Hi Everyone\n"
     ]
    }
   ],
   "source": [
    "with open('sample.text','r') as fg:\n",
    "    print(fg.read())"
   ]
  },
  {
   "cell_type": "code",
   "execution_count": 56,
   "id": "223f0267",
   "metadata": {},
   "outputs": [
    {
     "name": "stdout",
     "output_type": "stream",
     "text": [
      "['_CHUNK_SIZE', '__class__', '__del__', '__delattr__', '__dict__', '__dir__', '__doc__', '__enter__', '__eq__', '__exit__', '__format__', '__ge__', '__getattribute__', '__getstate__', '__gt__', '__hash__', '__init__', '__init_subclass__', '__iter__', '__le__', '__lt__', '__ne__', '__new__', '__next__', '__reduce__', '__reduce_ex__', '__repr__', '__setattr__', '__sizeof__', '__str__', '__subclasshook__', '_checkClosed', '_checkReadable', '_checkSeekable', '_checkWritable', '_finalizing', 'buffer', 'close', 'closed', 'detach', 'encoding', 'errors', 'fileno', 'flush', 'isatty', 'line_buffering', 'mode', 'name', 'newlines', 'read', 'readable', 'readline', 'readlines', 'reconfigure', 'seek', 'seekable', 'tell', 'truncate', 'writable', 'write', 'write_through', 'writelines']\n"
     ]
    }
   ],
   "source": [
    "print(dir(fg))"
   ]
  },
  {
   "cell_type": "code",
   "execution_count": 59,
   "id": "29f99076",
   "metadata": {},
   "outputs": [
    {
     "ename": "FileExistsError",
     "evalue": "[Errno 17] File exists: 'demo1.text'",
     "output_type": "error",
     "traceback": [
      "\u001b[1;31m---------------------------------------------------------------------------\u001b[0m",
      "\u001b[1;31mFileExistsError\u001b[0m                           Traceback (most recent call last)",
      "\u001b[1;32m<ipython-input-59-102596ac44a9>\u001b[0m in \u001b[0;36m<module>\u001b[1;34m\u001b[0m\n\u001b[1;32m----> 1\u001b[1;33m \u001b[1;32mwith\u001b[0m \u001b[0mopen\u001b[0m\u001b[1;33m(\u001b[0m\u001b[1;34m'demo1.text'\u001b[0m\u001b[1;33m,\u001b[0m\u001b[1;34m'x'\u001b[0m\u001b[1;33m)\u001b[0m\u001b[1;32mas\u001b[0m \u001b[0mfj\u001b[0m\u001b[1;33m:\u001b[0m\u001b[1;33m\u001b[0m\u001b[1;33m\u001b[0m\u001b[0m\n\u001b[0m\u001b[0;32m      2\u001b[0m     \u001b[1;32mwith\u001b[0m \u001b[0mopen\u001b[0m\u001b[1;33m(\u001b[0m\u001b[1;34m'demo1.text'\u001b[0m\u001b[1;33m,\u001b[0m\u001b[1;34m'a'\u001b[0m\u001b[1;33m)\u001b[0m \u001b[1;32mas\u001b[0m \u001b[0mfv\u001b[0m\u001b[1;33m:\u001b[0m\u001b[1;33m\u001b[0m\u001b[1;33m\u001b[0m\u001b[0m\n\u001b[0;32m      3\u001b[0m         \u001b[0mh\u001b[0m \u001b[1;33m=\u001b[0m \u001b[0minput\u001b[0m\u001b[1;33m(\u001b[0m\u001b[1;33m)\u001b[0m\u001b[1;33m\u001b[0m\u001b[1;33m\u001b[0m\u001b[0m\n\u001b[0;32m      4\u001b[0m         \u001b[0mfv\u001b[0m\u001b[1;33m.\u001b[0m\u001b[0mwrite\u001b[0m\u001b[1;33m(\u001b[0m\u001b[0mh\u001b[0m\u001b[1;33m)\u001b[0m\u001b[1;33m\u001b[0m\u001b[1;33m\u001b[0m\u001b[0m\n",
      "\u001b[1;31mFileExistsError\u001b[0m: [Errno 17] File exists: 'demo1.text'"
     ]
    }
   ],
   "source": [
    "with open('demo1.text','x')as fj:\n",
    "    with open('demo1.text','a') as fv:\n",
    "        h = input()\n",
    "        fv.write(h)"
   ]
  },
  {
   "cell_type": "code",
   "execution_count": 70,
   "id": "1386d310",
   "metadata": {},
   "outputs": [
    {
     "name": "stdout",
     "output_type": "stream",
     "text": [
      "asdjjasdgasd\n"
     ]
    }
   ],
   "source": [
    "with open('demo1.text','a') as fv:\n",
    "        h = input()\n",
    "        fv.write(h)\n",
    "        fv.write(\"\\n\")"
   ]
  },
  {
   "cell_type": "code",
   "execution_count": 73,
   "id": "1a528661",
   "metadata": {},
   "outputs": [
    {
     "name": "stdout",
     "output_type": "stream",
     "text": [
      "['asdasd1 45 78 345 asdasd eframeshasdasdqweasasdc\\n', 'asdjjasdgasd\\n']\n"
     ]
    }
   ],
   "source": [
    "with open('demo1.text','r')as df:\n",
    "    print(df.readlines())"
   ]
  },
  {
   "cell_type": "code",
   "execution_count": 77,
   "id": "98884ce4",
   "metadata": {},
   "outputs": [
    {
     "name": "stdout",
     "output_type": "stream",
     "text": [
      "45 78 96 85 74 85 2 2\n"
     ]
    }
   ],
   "source": [
    "with open('demo.csv','w')as gf:\n",
    "    h = input().split()\n",
    "    for j in h:\n",
    "        gf.write(j)\n",
    "        gf.write(\",\")"
   ]
  },
  {
   "cell_type": "markdown",
   "id": "83b9b003",
   "metadata": {},
   "source": [
    "```\n",
    "Input.text:\n",
    "    5\n",
    "    45 56 67 78 9\n",
    "\n",
    "Output.text:\n",
    "    Even numbers are: 56 78\n",
    "    Odd numbers are: 45 67 9\n",
    "```"
   ]
  },
  {
   "cell_type": "code",
   "execution_count": null,
   "id": "73f38f45",
   "metadata": {},
   "outputs": [],
   "source": []
  }
 ],
 "metadata": {
  "kernelspec": {
   "display_name": "Python 3",
   "language": "python",
   "name": "python3"
  },
  "language_info": {
   "codemirror_mode": {
    "name": "ipython",
    "version": 3
   },
   "file_extension": ".py",
   "mimetype": "text/x-python",
   "name": "python",
   "nbconvert_exporter": "python",
   "pygments_lexer": "ipython3",
   "version": "3.7.5"
  }
 },
 "nbformat": 4,
 "nbformat_minor": 5
}
