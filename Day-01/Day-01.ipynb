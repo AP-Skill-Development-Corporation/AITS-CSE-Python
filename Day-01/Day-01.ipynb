{
 "cells": [
  {
   "cell_type": "markdown",
   "id": "c7ce1325",
   "metadata": {},
   "source": [
    "# Python Basics\n",
    "###### For Second Years "
   ]
  },
  {
   "cell_type": "markdown",
   "id": "5ce42d42",
   "metadata": {},
   "source": [
    "## Variables:\n",
    "    - To stores a value\n",
    "    - To change a value"
   ]
  },
  {
   "cell_type": "code",
   "execution_count": 1,
   "id": "0438f21f",
   "metadata": {},
   "outputs": [
    {
     "data": {
      "text/plain": [
       "45"
      ]
     },
     "execution_count": 1,
     "metadata": {},
     "output_type": "execute_result"
    }
   ],
   "source": [
    "g = 45\n",
    "g"
   ]
  },
  {
   "cell_type": "code",
   "execution_count": 2,
   "id": "802687a3",
   "metadata": {},
   "outputs": [
    {
     "data": {
      "text/plain": [
       "4578"
      ]
     },
     "execution_count": 2,
     "metadata": {},
     "output_type": "execute_result"
    }
   ],
   "source": [
    "m = 4578\n",
    "n = 12\n",
    "n\n",
    "m"
   ]
  },
  {
   "cell_type": "code",
   "execution_count": 5,
   "id": "30290b5b",
   "metadata": {},
   "outputs": [
    {
     "data": {
      "text/plain": [
       "(12, 4578)"
      ]
     },
     "execution_count": 5,
     "metadata": {},
     "output_type": "execute_result"
    }
   ],
   "source": [
    "n,m"
   ]
  },
  {
   "cell_type": "code",
   "execution_count": 6,
   "id": "0f3d42e0",
   "metadata": {},
   "outputs": [
    {
     "data": {
      "text/plain": [
       "('34', 23)"
      ]
     },
     "execution_count": 6,
     "metadata": {},
     "output_type": "execute_result"
    }
   ],
   "source": [
    "y,r = '34',23\n",
    "y,r"
   ]
  },
  {
   "cell_type": "code",
   "execution_count": 8,
   "id": "3ac93695",
   "metadata": {},
   "outputs": [
    {
     "data": {
      "text/plain": [
       "(45, 80, '78')"
      ]
     },
     "execution_count": 8,
     "metadata": {},
     "output_type": "execute_result"
    }
   ],
   "source": [
    "t,y,e = 45,80,'78'\n",
    "t,y,e"
   ]
  },
  {
   "cell_type": "code",
   "execution_count": 9,
   "id": "3ed41ac3",
   "metadata": {},
   "outputs": [
    {
     "name": "stdout",
     "output_type": "stream",
     "text": [
      "45 80 78\n"
     ]
    }
   ],
   "source": [
    "print(t,y,e)"
   ]
  },
  {
   "cell_type": "code",
   "execution_count": 10,
   "id": "50ae3e89",
   "metadata": {},
   "outputs": [
    {
     "data": {
      "text/plain": [
       "'78'"
      ]
     },
     "execution_count": 10,
     "metadata": {},
     "output_type": "execute_result"
    }
   ],
   "source": [
    "e"
   ]
  },
  {
   "cell_type": "code",
   "execution_count": 12,
   "id": "a9f8032a",
   "metadata": {},
   "outputs": [
    {
     "name": "stdout",
     "output_type": "stream",
     "text": [
      "10 10 10\n"
     ]
    }
   ],
   "source": [
    "t = y = g = 10\n",
    "print(t,y,g)"
   ]
  },
  {
   "cell_type": "markdown",
   "id": "a33974ef",
   "metadata": {},
   "source": [
    "## Data types:\n",
    "    - int -> only integer[Numbers] values\n",
    "    - float -> decimal and Numbers\n",
    "    - str -> ' or \"\n",
    "    - All Data Structures[list,tuple,set and Dictionary]    "
   ]
  },
  {
   "cell_type": "markdown",
   "id": "17259873",
   "metadata": {},
   "source": [
    "## Type()\n",
    "    - To know the data type of a variable\n",
    "    - Syntax:\n",
    "        type(variablename)"
   ]
  },
  {
   "cell_type": "code",
   "execution_count": 11,
   "id": "b1cda236",
   "metadata": {},
   "outputs": [
    {
     "name": "stdout",
     "output_type": "stream",
     "text": [
      "34 <class 'str'>\n"
     ]
    }
   ],
   "source": [
    "g = '34'\n",
    "print(g,type(g))"
   ]
  },
  {
   "cell_type": "code",
   "execution_count": 13,
   "id": "21e0428f",
   "metadata": {},
   "outputs": [
    {
     "name": "stdout",
     "output_type": "stream",
     "text": [
      "45 <class 'int'>\n",
      "78.0 <class 'float'>\n",
      "ramu <class 'str'>\n",
      "89 <class 'str'>\n"
     ]
    }
   ],
   "source": [
    "u,k,n,p = 45,78.00,'ramu','89'\n",
    "print(u,type(u))\n",
    "print(k,type(k))\n",
    "print(n,type(n))\n",
    "print(p,type(p))"
   ]
  },
  {
   "cell_type": "code",
   "execution_count": null,
   "id": "c0d1f00d",
   "metadata": {},
   "outputs": [],
   "source": []
  }
 ],
 "metadata": {
  "kernelspec": {
   "display_name": "Python 3",
   "language": "python",
   "name": "python3"
  },
  "language_info": {
   "codemirror_mode": {
    "name": "ipython",
    "version": 3
   },
   "file_extension": ".py",
   "mimetype": "text/x-python",
   "name": "python",
   "nbconvert_exporter": "python",
   "pygments_lexer": "ipython3",
   "version": "3.7.5"
  }
 },
 "nbformat": 4,
 "nbformat_minor": 5
}
